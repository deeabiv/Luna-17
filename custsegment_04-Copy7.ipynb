{
  "cells": [
    {
      "cell_type": "markdown",
      "metadata": {
        "id": "view-in-github",
        "colab_type": "text"
      },
      "source": [
        "<a href=\"https://colab.research.google.com/github/deeabiv/Luna-17/blob/main/custsegment_04-Copy7.ipynb\" target=\"_parent\"><img src=\"https://colab.research.google.com/assets/colab-badge.svg\" alt=\"Open In Colab\"/></a>"
      ]
    },
    {
      "cell_type": "code",
      "execution_count": 19,
      "metadata": {
        "id": "SJiG2MHN6Gtm",
        "outputId": "19421d60-c79a-4283-bfe8-e18697b2eaf8",
        "colab": {
          "base_uri": "https://localhost:8080/"
        }
      },
      "outputs": [
        {
          "output_type": "stream",
          "name": "stdout",
          "text": [
            "Looking in indexes: https://pypi.org/simple, https://us-python.pkg.dev/colab-wheels/public/simple/\n",
            "Requirement already satisfied: kmodes in /usr/local/lib/python3.7/dist-packages (0.12.1)\n",
            "Requirement already satisfied: numpy>=1.10.4 in /usr/local/lib/python3.7/dist-packages (from kmodes) (1.21.6)\n",
            "Requirement already satisfied: scipy>=0.13.3 in /usr/local/lib/python3.7/dist-packages (from kmodes) (1.7.3)\n",
            "Requirement already satisfied: scikit-learn>=0.22.0 in /usr/local/lib/python3.7/dist-packages (from kmodes) (1.0.2)\n",
            "Requirement already satisfied: joblib>=0.11 in /usr/local/lib/python3.7/dist-packages (from kmodes) (1.1.0)\n",
            "Requirement already satisfied: threadpoolctl>=2.0.0 in /usr/local/lib/python3.7/dist-packages (from scikit-learn>=0.22.0->kmodes) (3.1.0)\n",
            "Looking in indexes: https://pypi.org/simple, https://us-python.pkg.dev/colab-wheels/public/simple/\n",
            "Requirement already satisfied: kneed in /usr/local/lib/python3.7/dist-packages (0.7.0)\n",
            "Requirement already satisfied: numpy>=1.14.2 in /usr/local/lib/python3.7/dist-packages (from kneed) (1.21.6)\n",
            "Requirement already satisfied: matplotlib in /usr/local/lib/python3.7/dist-packages (from kneed) (3.2.2)\n",
            "Requirement already satisfied: scipy in /usr/local/lib/python3.7/dist-packages (from kneed) (1.7.3)\n",
            "Requirement already satisfied: kiwisolver>=1.0.1 in /usr/local/lib/python3.7/dist-packages (from matplotlib->kneed) (1.4.4)\n",
            "Requirement already satisfied: python-dateutil>=2.1 in /usr/local/lib/python3.7/dist-packages (from matplotlib->kneed) (2.8.2)\n",
            "Requirement already satisfied: cycler>=0.10 in /usr/local/lib/python3.7/dist-packages (from matplotlib->kneed) (0.11.0)\n",
            "Requirement already satisfied: pyparsing!=2.0.4,!=2.1.2,!=2.1.6,>=2.0.1 in /usr/local/lib/python3.7/dist-packages (from matplotlib->kneed) (3.0.9)\n",
            "Requirement already satisfied: typing-extensions in /usr/local/lib/python3.7/dist-packages (from kiwisolver>=1.0.1->matplotlib->kneed) (4.1.1)\n",
            "Requirement already satisfied: six>=1.5 in /usr/local/lib/python3.7/dist-packages (from python-dateutil>=2.1->matplotlib->kneed) (1.15.0)\n"
          ]
        }
      ],
      "source": [
        "import numpy as np\n",
        "import pandas as pd\n",
        "import matplotlib.pyplot as plt\n",
        "import seaborn as sns\n",
        "\n",
        "from sklearn.cluster import KMeans, MeanShift, estimate_bandwidth\n",
        "from sklearn.preprocessing import StandardScaler, PowerTransformer\n",
        "from sklearn.metrics import silhouette_score\n",
        "from sklearn.model_selection import train_test_split\n",
        "!pip install kmodes\n",
        "from kmodes.kprototypes import KPrototypes\n",
        "from kmodes.kmodes import KModes\n",
        "\n",
        "from yellowbrick.cluster import KElbowVisualizer, SilhouetteVisualizer\n",
        "!pip install kneed\n",
        "from kneed import KneeLocator\n",
        "\n",
        "nK = 12                     # initial guess: clusters\n",
        "RNDN = 42                   # random state\n",
        "\n",
        "from tqdm import tqdm\n",
        "import sys\n",
        "import warnings\n",
        "warnings.filterwarnings(\"ignore\")\n",
        "\n",
        "\n",
        "%matplotlib inline\n",
        "pd.set_option(\"display.precision\",2)\n",
        "np.set_printoptions(precision=3, suppress=True)\n",
        "pd.options.display.float_format = '{:.3f}'.format"
      ]
    },
    {
      "cell_type": "code",
      "execution_count": 20,
      "metadata": {
        "id": "bT--Du6Q6Gtq",
        "outputId": "74c59a91-7451-4bf3-c328-95b505996af1",
        "colab": {
          "base_uri": "https://localhost:8080/"
        }
      },
      "outputs": [
        {
          "output_type": "stream",
          "name": "stdout",
          "text": [
            "<class 'pandas.core.frame.DataFrame'>\n",
            "RangeIndex: 4500 entries, 0 to 4499\n",
            "Data columns (total 22 columns):\n",
            " #   Column                               Non-Null Count  Dtype  \n",
            "---  ------                               --------------  -----  \n",
            " 0   ID                                   4500 non-null   int64  \n",
            " 1   sex                                  4436 non-null   object \n",
            " 2   varsta                               4436 non-null   float64\n",
            " 3   mediu                                4409 non-null   object \n",
            " 4   judet                                4409 non-null   object \n",
            " 5   frecventa_privit_tv                  4361 non-null   object \n",
            " 6   ultima_forma_invatamant              4408 non-null   object \n",
            " 7   stare_civila                         4408 non-null   object \n",
            " 8   cu_copii                             4408 non-null   object \n",
            " 9   nr_copii                             3138 non-null   object \n",
            " 10  persoane_intretinere                 4499 non-null   float64\n",
            " 11  ocupatie                             4398 non-null   object \n",
            " 12  venit_net                            4483 non-null   object \n",
            " 13  atractie_reclama                     4499 non-null   object \n",
            " 14  masura_potrivire_serviciu            4496 non-null   object \n",
            " 15  voi_contracta_serviciile             4499 non-null   object \n",
            " 16  cum_consideri_pretul_1               3647 non-null   object \n",
            " 17  cum_consideri_pretul_2               3620 non-null   object \n",
            " 18  masura_recomandare_serviciu_folosit  4314 non-null   float64\n",
            " 19  doresti_schimbare_furnizor           4314 non-null   object \n",
            " 20  consideri_servicii_tv_online         4314 non-null   object \n",
            " 21  motiv_nu_te_uiti_la_tv               4221 non-null   object \n",
            "dtypes: float64(3), int64(1), object(18)\n",
            "memory usage: 773.6+ KB\n"
          ]
        }
      ],
      "source": [
        "# read sales data\n",
        "data = pd.read_csv('https://raw.githubusercontent.com/deeabiv/Luna-17/main/set-de-date.csv',sep=';',skiprows=1, usecols=range(22))\n",
        "#cluster_columns = ['sex', 'varsta','mediu','frecventa_privit_tv','venit_net','cum_consideri_pretul_1','cum_consideri_pretul_2']\n",
        "#data = data[cluster_columns]\n",
        "\n",
        "# any missing values?\n",
        "data.isnull().values.any()\n",
        "\n",
        "\n",
        "data.info()\n",
        "\n"
      ]
    },
    {
      "cell_type": "code",
      "execution_count": 21,
      "metadata": {
        "id": "igAtXJKz6Gtt",
        "outputId": "81fbd208-b596-4fc7-b5d0-bbae70e64180",
        "colab": {
          "base_uri": "https://localhost:8080/",
          "height": 630
        }
      },
      "outputs": [
        {
          "output_type": "stream",
          "name": "stdout",
          "text": [
            "sex                              2\n",
            "mediu                            2\n",
            "judet                           42\n",
            "frecventa_privit_tv              9\n",
            "ultima_forma_invatamant          8\n",
            "stare_civila                     5\n",
            "cu_copii                         2\n",
            "nr_copii                         6\n",
            "ocupatie                         9\n",
            "venit_net                       12\n",
            "atractie_reclama                 5\n",
            "masura_potrivire_serviciu        5\n",
            "voi_contracta_serviciile         5\n",
            "cum_consideri_pretul_1           6\n",
            "cum_consideri_pretul_2           6\n",
            "doresti_schimbare_furnizor       5\n",
            "consideri_servicii_tv_online     5\n",
            "motiv_nu_te_uiti_la_tv           5\n",
            "dtype: int64\n"
          ]
        },
        {
          "output_type": "execute_result",
          "data": {
            "text/plain": [
              "            ID        varsta  persoane_intretinere  \\\n",
              "count 4500.000      4436.000              4499.000   \n",
              "mean  2250.500    497709.753                 2.440   \n",
              "std   1299.182  19135127.759                 1.553   \n",
              "min      1.000        15.000                 0.000   \n",
              "25%   1125.750        33.000                 1.000   \n",
              "50%   2250.500        41.000                 2.000   \n",
              "75%   3375.250        50.000                 3.000   \n",
              "max   4500.000 751498874.000                11.000   \n",
              "\n",
              "       masura_recomandare_serviciu_folosit  \n",
              "count                             4314.000  \n",
              "mean                                 8.896  \n",
              "std                                  1.588  \n",
              "min                                  0.000  \n",
              "25%                                  8.000  \n",
              "50%                                 10.000  \n",
              "75%                                 10.000  \n",
              "max                                 10.000  "
            ],
            "text/html": [
              "\n",
              "  <div id=\"df-84e390cf-28cf-49d9-b806-1057043529fc\">\n",
              "    <div class=\"colab-df-container\">\n",
              "      <div>\n",
              "<style scoped>\n",
              "    .dataframe tbody tr th:only-of-type {\n",
              "        vertical-align: middle;\n",
              "    }\n",
              "\n",
              "    .dataframe tbody tr th {\n",
              "        vertical-align: top;\n",
              "    }\n",
              "\n",
              "    .dataframe thead th {\n",
              "        text-align: right;\n",
              "    }\n",
              "</style>\n",
              "<table border=\"1\" class=\"dataframe\">\n",
              "  <thead>\n",
              "    <tr style=\"text-align: right;\">\n",
              "      <th></th>\n",
              "      <th>ID</th>\n",
              "      <th>varsta</th>\n",
              "      <th>persoane_intretinere</th>\n",
              "      <th>masura_recomandare_serviciu_folosit</th>\n",
              "    </tr>\n",
              "  </thead>\n",
              "  <tbody>\n",
              "    <tr>\n",
              "      <th>count</th>\n",
              "      <td>4500.000</td>\n",
              "      <td>4436.000</td>\n",
              "      <td>4499.000</td>\n",
              "      <td>4314.000</td>\n",
              "    </tr>\n",
              "    <tr>\n",
              "      <th>mean</th>\n",
              "      <td>2250.500</td>\n",
              "      <td>497709.753</td>\n",
              "      <td>2.440</td>\n",
              "      <td>8.896</td>\n",
              "    </tr>\n",
              "    <tr>\n",
              "      <th>std</th>\n",
              "      <td>1299.182</td>\n",
              "      <td>19135127.759</td>\n",
              "      <td>1.553</td>\n",
              "      <td>1.588</td>\n",
              "    </tr>\n",
              "    <tr>\n",
              "      <th>min</th>\n",
              "      <td>1.000</td>\n",
              "      <td>15.000</td>\n",
              "      <td>0.000</td>\n",
              "      <td>0.000</td>\n",
              "    </tr>\n",
              "    <tr>\n",
              "      <th>25%</th>\n",
              "      <td>1125.750</td>\n",
              "      <td>33.000</td>\n",
              "      <td>1.000</td>\n",
              "      <td>8.000</td>\n",
              "    </tr>\n",
              "    <tr>\n",
              "      <th>50%</th>\n",
              "      <td>2250.500</td>\n",
              "      <td>41.000</td>\n",
              "      <td>2.000</td>\n",
              "      <td>10.000</td>\n",
              "    </tr>\n",
              "    <tr>\n",
              "      <th>75%</th>\n",
              "      <td>3375.250</td>\n",
              "      <td>50.000</td>\n",
              "      <td>3.000</td>\n",
              "      <td>10.000</td>\n",
              "    </tr>\n",
              "    <tr>\n",
              "      <th>max</th>\n",
              "      <td>4500.000</td>\n",
              "      <td>751498874.000</td>\n",
              "      <td>11.000</td>\n",
              "      <td>10.000</td>\n",
              "    </tr>\n",
              "  </tbody>\n",
              "</table>\n",
              "</div>\n",
              "      <button class=\"colab-df-convert\" onclick=\"convertToInteractive('df-84e390cf-28cf-49d9-b806-1057043529fc')\"\n",
              "              title=\"Convert this dataframe to an interactive table.\"\n",
              "              style=\"display:none;\">\n",
              "        \n",
              "  <svg xmlns=\"http://www.w3.org/2000/svg\" height=\"24px\"viewBox=\"0 0 24 24\"\n",
              "       width=\"24px\">\n",
              "    <path d=\"M0 0h24v24H0V0z\" fill=\"none\"/>\n",
              "    <path d=\"M18.56 5.44l.94 2.06.94-2.06 2.06-.94-2.06-.94-.94-2.06-.94 2.06-2.06.94zm-11 1L8.5 8.5l.94-2.06 2.06-.94-2.06-.94L8.5 2.5l-.94 2.06-2.06.94zm10 10l.94 2.06.94-2.06 2.06-.94-2.06-.94-.94-2.06-.94 2.06-2.06.94z\"/><path d=\"M17.41 7.96l-1.37-1.37c-.4-.4-.92-.59-1.43-.59-.52 0-1.04.2-1.43.59L10.3 9.45l-7.72 7.72c-.78.78-.78 2.05 0 2.83L4 21.41c.39.39.9.59 1.41.59.51 0 1.02-.2 1.41-.59l7.78-7.78 2.81-2.81c.8-.78.8-2.07 0-2.86zM5.41 20L4 18.59l7.72-7.72 1.47 1.35L5.41 20z\"/>\n",
              "  </svg>\n",
              "      </button>\n",
              "      \n",
              "  <style>\n",
              "    .colab-df-container {\n",
              "      display:flex;\n",
              "      flex-wrap:wrap;\n",
              "      gap: 12px;\n",
              "    }\n",
              "\n",
              "    .colab-df-convert {\n",
              "      background-color: #E8F0FE;\n",
              "      border: none;\n",
              "      border-radius: 50%;\n",
              "      cursor: pointer;\n",
              "      display: none;\n",
              "      fill: #1967D2;\n",
              "      height: 32px;\n",
              "      padding: 0 0 0 0;\n",
              "      width: 32px;\n",
              "    }\n",
              "\n",
              "    .colab-df-convert:hover {\n",
              "      background-color: #E2EBFA;\n",
              "      box-shadow: 0px 1px 2px rgba(60, 64, 67, 0.3), 0px 1px 3px 1px rgba(60, 64, 67, 0.15);\n",
              "      fill: #174EA6;\n",
              "    }\n",
              "\n",
              "    [theme=dark] .colab-df-convert {\n",
              "      background-color: #3B4455;\n",
              "      fill: #D2E3FC;\n",
              "    }\n",
              "\n",
              "    [theme=dark] .colab-df-convert:hover {\n",
              "      background-color: #434B5C;\n",
              "      box-shadow: 0px 1px 3px 1px rgba(0, 0, 0, 0.15);\n",
              "      filter: drop-shadow(0px 1px 2px rgba(0, 0, 0, 0.3));\n",
              "      fill: #FFFFFF;\n",
              "    }\n",
              "  </style>\n",
              "\n",
              "      <script>\n",
              "        const buttonEl =\n",
              "          document.querySelector('#df-84e390cf-28cf-49d9-b806-1057043529fc button.colab-df-convert');\n",
              "        buttonEl.style.display =\n",
              "          google.colab.kernel.accessAllowed ? 'block' : 'none';\n",
              "\n",
              "        async function convertToInteractive(key) {\n",
              "          const element = document.querySelector('#df-84e390cf-28cf-49d9-b806-1057043529fc');\n",
              "          const dataTable =\n",
              "            await google.colab.kernel.invokeFunction('convertToInteractive',\n",
              "                                                     [key], {});\n",
              "          if (!dataTable) return;\n",
              "\n",
              "          const docLinkHtml = 'Like what you see? Visit the ' +\n",
              "            '<a target=\"_blank\" href=https://colab.research.google.com/notebooks/data_table.ipynb>data table notebook</a>'\n",
              "            + ' to learn more about interactive tables.';\n",
              "          element.innerHTML = '';\n",
              "          dataTable['output_type'] = 'display_data';\n",
              "          await google.colab.output.renderOutput(dataTable, element);\n",
              "          const docLink = document.createElement('div');\n",
              "          docLink.innerHTML = docLinkHtml;\n",
              "          element.appendChild(docLink);\n",
              "        }\n",
              "      </script>\n",
              "    </div>\n",
              "  </div>\n",
              "  "
            ]
          },
          "metadata": {},
          "execution_count": 21
        }
      ],
      "source": [
        "# elemente unice\n",
        "print(data.select_dtypes(\"object\").nunique())\n",
        "\n",
        "# variabile numerice\n",
        "data.select_dtypes(exclude='object').describe()"
      ]
    },
    {
      "cell_type": "code",
      "execution_count": 22,
      "metadata": {
        "id": "43WRwY5n6Gtv",
        "outputId": "78d71bb7-6453-4305-cb9c-a3619a6d06a4",
        "colab": {
          "base_uri": "https://localhost:8080/"
        }
      },
      "outputs": [
        {
          "output_type": "stream",
          "name": "stdout",
          "text": [
            "Valori coloane:\n",
            "sex : ['Barbat' 'Femeie' nan]\n",
            "mediu : ['Urban' 'Rural' nan]\n",
            "judet : ['BUCURESTI' 'PRAHOVA' 'ARAD' 'GALATI' 'MURES' 'BOTOSANI' 'COVASNA'\n",
            " 'CONSTANTA' 'DOLJ' 'OLT' 'IASI' 'BUZAU' 'HUNEDOARA' 'GORJ' 'CLUJ' 'NEAMT'\n",
            " 'SALAJ' 'BIHOR' 'SUCEAVA' 'HARGHITA' 'IALOMITA' 'TIMIS' 'CARAS-SEVERIN'\n",
            " 'SATU MARE' 'BRAILA' 'ILFOV' 'MEHEDINTI' 'BACAU' 'ARGES' 'BRASOV' 'SIBIU'\n",
            " 'BISTRITA-NASAUD' 'CALARASI' 'VALCEA' 'VASLUI' 'TELEORMAN' 'ALBA'\n",
            " 'DAMBOVITA' 'MARAMURES' 'TULCEA' nan 'VRANCEA' 'GIURGIU']\n",
            "frecventa_privit_tv : ['Zilnic' 'De 2-3 ori pe saptamana' 'De 4-5 ori pe saptamana'\n",
            " 'Chiar daca am televizor, nu ma uit niciodata' 'O data pe saptamana' nan\n",
            " 'O data la cateva luni sau mai rar' 'De 2-3 ori pe luna' 'O data pe luna'\n",
            " 'Nu am televizor']\n",
            "ultima_forma_invatamant : [nan 'Studii postuniversitare (master, doctorat)' 'Facultate (3-5 ani)'\n",
            " 'Gimnaziu (8 clase)' 'Treapta 1 de liceu (10 clase)' 'Liceu (12 clase)'\n",
            " 'Refuz sa raspund' 'Fara studii' 'scoala primara (4 clase)']\n",
            "stare_civila : [nan 'Necasatorit/a' 'Uniune consensuala/ Casatorit/a'\n",
            " 'Divortat/a / Separat/a' 'Refuz sa raspund' 'Vaduv/a']\n",
            "cu_copii : [nan 'Nu' 'Da']\n",
            "nr_copii : [nan '1 copil' '2 copii' '3 copii' '5 copii' '4 copii' 'Peste 5 copii']\n",
            "ocupatie : [nan 'Muncitor calificat' 'Nu lucrez'\n",
            " 'Inginer, economist, doctor, professor' 'Refuz' 'Functionar'\n",
            " 'Manager / director' 'Detin o afacere'\n",
            " 'Profesii liberale: architect, notar, avocat, specialist IT, etc.'\n",
            " 'Elev / Student']\n",
            "venit_net : [nan '1.001 - 1.700 lei' 'Refuz sa raspund' '5.001 - 6.500 lei'\n",
            " '> 8000 lei' '751 - 1.000 lei' '1.701 - 2.000 lei' 'Nu realizez venituri'\n",
            " '4.001 - 5.000 lei' '2.001 - 3.000 lei' '3.001 - 4.000 lei' 'Sub 750 lei'\n",
            " '6.501 - 8.000 lei']\n",
            "atractie_reclama : [nan 'Asa si-asa' 'Nu-mi place deloc' 'imi place mult' 'Nu prea-mi place'\n",
            " 'imi place foarte mult']\n",
            "masura_potrivire_serviciu : [nan 'Asa si-asa' 'Nu mi se potriveste deloc' 'Nu prea mi se potriveste'\n",
            " 'Mi se potriveste destul de bine' 'Mi se potriveste foarte bine']\n",
            "voi_contracta_serviciile : [nan 'Poate da, poate nu' 'Cu siguranta nu' 'Cu siguranta da'\n",
            " 'Probabil da' 'Mai degraba nu']\n",
            "cum_consideri_pretul_1 : [' ' 'Ieftin' 'Scump' 'Acceptabil' 'Prea scump' nan 'Prea ieftin']\n",
            "cum_consideri_pretul_2 : [' ' 'Scump' 'Prea scump' 'Acceptabil' nan 'Ieftin' 'Prea ieftin']\n",
            "masura_recomandare_serviciu_folosit : [nan  9.  8. 10.  7.  6.  4.  3.  5.  0.  2.  1.]\n",
            "doresti_schimbare_furnizor : [nan 'Cu siguranta NU il voi schimba in urmatoarele 6 luni'\n",
            " 'Cu siguranta il voi schimba in urmatoarele 6 luni'\n",
            " 'Probabil il voi schimba in urmatoarele 6 luni'\n",
            " 'Probabil NU il voi schimba in urmatoarele 6 luni'\n",
            " 'Poate il voi schimba, poate nu']\n",
            "consideri_servicii_tv_online : [nan 'Probabil voi contracta servicii de TV online sau streaming'\n",
            " 'Probabil NU voi contracta servicii de TV online sau streaming'\n",
            " 'Cu siguranta voi contracta servicii de TV online sau streaming'\n",
            " 'Poate voi contracta, poate nu'\n",
            " 'Cu siguranta NU voi contracta servicii de TV online sau streaming']\n",
            "motiv_nu_te_uiti_la_tv : [nan 'As vrea sa ma uit, dar nu am timp' 'Reclamele'\n",
            " 'Nu gasesc valoare in continutul de la TV'\n",
            " 'Prefer surse mai moderne de divertisment (internet, social media etc.)'\n",
            " 'Ma distrage de la alte activitati/ as pierde timpul']\n"
          ]
        }
      ],
      "source": [
        "categorical_columns = ['sex','mediu','judet','frecventa_privit_tv','ultima_forma_invatamant','stare_civila',\n",
        "                       'cu_copii','nr_copii','ocupatie','venit_net','atractie_reclama',\n",
        "                       'masura_potrivire_serviciu','voi_contracta_serviciile','cum_consideri_pretul_1','cum_consideri_pretul_2',\n",
        "                      'masura_recomandare_serviciu_folosit','doresti_schimbare_furnizor','consideri_servicii_tv_online',\n",
        "                       'motiv_nu_te_uiti_la_tv']\n",
        "def show_column_options(df):\n",
        "    print('Valori coloane:')\n",
        "    cols = df.columns\n",
        "    for col in cols:\n",
        "        print(col,':',df[col].unique())\n",
        "\n",
        "show_column_options(data[categorical_columns])"
      ]
    },
    {
      "cell_type": "code",
      "execution_count": 23,
      "metadata": {
        "id": "fWjcG7A46Gtx",
        "outputId": "f2bbf2da-9e11-4b16-9cd4-0139eedba244",
        "colab": {
          "base_uri": "https://localhost:8080/"
        }
      },
      "outputs": [
        {
          "output_type": "execute_result",
          "data": {
            "text/plain": [
              "Urban    2670\n",
              "Rural    1739\n",
              "Name: mediu, dtype: int64"
            ]
          },
          "metadata": {},
          "execution_count": 23
        }
      ],
      "source": [
        "data[\"mediu\"].value_counts()"
      ]
    },
    {
      "cell_type": "code",
      "execution_count": 24,
      "metadata": {
        "id": "Vl0UHXpK6Gty",
        "outputId": "eb2571bc-f021-410a-e56c-7d71a64ee867",
        "colab": {
          "base_uri": "https://localhost:8080/"
        }
      },
      "outputs": [
        {
          "output_type": "execute_result",
          "data": {
            "text/plain": [
              "1.701 - 3.000 lei       1458\n",
              "Sub 1700 lei            1222\n",
              "Nu realizez venituri     639\n",
              "3.001 - 5.000 lei        590\n",
              "> 5000 lei               196\n",
              "Name: venit_net, dtype: int64"
            ]
          },
          "metadata": {},
          "execution_count": 24
        }
      ],
      "source": [
        "venit_net = {\"venit_net\":     {\"Sub 750 lei\": \"Sub 1700 lei\",\"751 - 1.000 lei\": \"Sub 1700 lei\",\n",
        "                               \"1.001 - 1.700 lei\": \"Sub 1700 lei\", \"1.701 - 2.000 lei\": \"1.701 - 3.000 lei\",\n",
        "                               \"2.001 - 3.000 lei\": \"1.701 - 3.000 lei\",\"3.001 - 4.000 lei\": \"3.001 - 5.000 lei\",\n",
        "                               \"4.001 - 5.000 lei\": \"3.001 - 5.000 lei\",\"5.001 - 6.500 lei\":\"> 5000 lei\",\"> 8000 lei\":\"> 5000 lei\",\"6.501 - 8.000 lei\": \"> 5000 lei\"}\n",
        "                }\n",
        "data = data.replace(venit_net)\n",
        "data = data[data[\"venit_net\"] != 'Refuz sa raspund']\n",
        "data[\"venit_net\"].value_counts()"
      ]
    },
    {
      "cell_type": "code",
      "execution_count": 25,
      "metadata": {
        "id": "WFY0UQJq6Gt0",
        "outputId": "a84aeb96-ad19-4050-ee07-f243b8613bf3",
        "colab": {
          "base_uri": "https://localhost:8080/"
        }
      },
      "outputs": [
        {
          "output_type": "execute_result",
          "data": {
            "text/plain": [
              "['Asa si-asa', 'imi place mult', 'Altele']"
            ]
          },
          "metadata": {},
          "execution_count": 25
        }
      ],
      "source": [
        "from collections import Counter\n",
        "def cumulatively_categorise(column,threshold=0.75,return_categories_list=True):\n",
        "  #Find the threshold value using the percentage and number of instances in the column\n",
        "  threshold_value=int(threshold*len(column))\n",
        "  #Initialise an empty list for our new minimised categories\n",
        "  categories_list=[]\n",
        "  #Initialise a variable to calculate the sum of frequencies\n",
        "  s=0\n",
        "  #Create a counter dictionary of the form unique_value: frequency\n",
        "  counts=Counter(column)\n",
        "\n",
        "  #Loop through the category name and its corresponding frequency after sorting the categories by descending order of frequency\n",
        "  for i,j in counts.most_common():\n",
        "    #Add the frequency to the global sum\n",
        "    s+=dict(counts)[i]\n",
        "    #Append the category name to the list\n",
        "    categories_list.append(i)\n",
        "    #Check if the global sum has reached the threshold value, if so break the loop\n",
        "    if s>=threshold_value:\n",
        "      break\n",
        "  #Append the category Other to the list\n",
        "  categories_list.append('Altele')\n",
        "\n",
        "  #Replace all instances not in our new categories by Other  \n",
        "  new_column=column.apply(lambda x: x if x in categories_list else 'Altele')\n",
        "\n",
        "  #Return transformed column and unique values if return_categories=True\n",
        "  if(return_categories_list):\n",
        "    return new_column,categories_list\n",
        "  #Return only the transformed column if return_categories=False\n",
        "  else:\n",
        "    return new_column\n",
        "\n",
        "#Call the function with a default threshold of 75%\n",
        "transformed_column,new_category_list=cumulatively_categorise(data['ultima_forma_invatamant'],0.75,return_categories_list=True)\n",
        "new_category_list\n",
        "transformed_column,new_category_list=cumulatively_categorise(data['atractie_reclama'],0.65,return_categories_list=True)\n",
        "new_category_list"
      ]
    },
    {
      "cell_type": "code",
      "execution_count": 26,
      "metadata": {
        "id": "5W28Slv06Gt2"
      },
      "outputs": [],
      "source": [
        "cluster_columns = ['varsta','mediu','atractie_reclama','voi_contracta_serviciile']\n",
        "data = data[cluster_columns]\n",
        "data.replace(r'^\\s*$', np.nan, regex=True)\n",
        "data.fillna(data.mode().iloc[0]) ## convert df to a series\n",
        "data.head()\n",
        "data.dropna(inplace=True)\n",
        "#data\n"
      ]
    },
    {
      "cell_type": "code",
      "execution_count": 27,
      "metadata": {
        "id": "V367uYqn6Gt3",
        "outputId": "29c30606-5e62-4e04-d927-aefc5d017f71",
        "colab": {
          "base_uri": "https://localhost:8080/"
        }
      },
      "outputs": [
        {
          "output_type": "execute_result",
          "data": {
            "text/plain": [
              "40.000    146\n",
              "42.000    145\n",
              "44.000    138\n",
              "52.000    137\n",
              "41.000    136\n",
              "         ... \n",
              "90.000      1\n",
              "82.000      1\n",
              "81.000      1\n",
              "83.000      1\n",
              "87.000      1\n",
              "Name: varsta, Length: 73, dtype: int64"
            ]
          },
          "metadata": {},
          "execution_count": 27
        }
      ],
      "source": [
        "data[\"varsta\"].value_counts()"
      ]
    },
    {
      "cell_type": "code",
      "execution_count": 28,
      "metadata": {
        "id": "xnHymsIO6Gt4",
        "outputId": "39ac6c36-2769-4254-93ee-9cc170a046a4",
        "colab": {
          "base_uri": "https://localhost:8080/",
          "height": 318
        }
      },
      "outputs": [
        {
          "output_type": "stream",
          "name": "stdout",
          "text": [
            "(4035, 4)\n"
          ]
        },
        {
          "output_type": "display_data",
          "data": {
            "text/plain": [
              "        varsta\n",
              "count 4035.000\n",
              "mean    41.744\n",
              "std     11.928\n",
              "min     16.000\n",
              "25%     33.000\n",
              "50%     41.000\n",
              "75%     50.000\n",
              "max     90.000"
            ],
            "text/html": [
              "\n",
              "  <div id=\"df-64c1cdcf-ed49-402c-8e24-0dd835294a5c\">\n",
              "    <div class=\"colab-df-container\">\n",
              "      <div>\n",
              "<style scoped>\n",
              "    .dataframe tbody tr th:only-of-type {\n",
              "        vertical-align: middle;\n",
              "    }\n",
              "\n",
              "    .dataframe tbody tr th {\n",
              "        vertical-align: top;\n",
              "    }\n",
              "\n",
              "    .dataframe thead th {\n",
              "        text-align: right;\n",
              "    }\n",
              "</style>\n",
              "<table border=\"1\" class=\"dataframe\">\n",
              "  <thead>\n",
              "    <tr style=\"text-align: right;\">\n",
              "      <th></th>\n",
              "      <th>varsta</th>\n",
              "    </tr>\n",
              "  </thead>\n",
              "  <tbody>\n",
              "    <tr>\n",
              "      <th>count</th>\n",
              "      <td>4035.000</td>\n",
              "    </tr>\n",
              "    <tr>\n",
              "      <th>mean</th>\n",
              "      <td>41.744</td>\n",
              "    </tr>\n",
              "    <tr>\n",
              "      <th>std</th>\n",
              "      <td>11.928</td>\n",
              "    </tr>\n",
              "    <tr>\n",
              "      <th>min</th>\n",
              "      <td>16.000</td>\n",
              "    </tr>\n",
              "    <tr>\n",
              "      <th>25%</th>\n",
              "      <td>33.000</td>\n",
              "    </tr>\n",
              "    <tr>\n",
              "      <th>50%</th>\n",
              "      <td>41.000</td>\n",
              "    </tr>\n",
              "    <tr>\n",
              "      <th>75%</th>\n",
              "      <td>50.000</td>\n",
              "    </tr>\n",
              "    <tr>\n",
              "      <th>max</th>\n",
              "      <td>90.000</td>\n",
              "    </tr>\n",
              "  </tbody>\n",
              "</table>\n",
              "</div>\n",
              "      <button class=\"colab-df-convert\" onclick=\"convertToInteractive('df-64c1cdcf-ed49-402c-8e24-0dd835294a5c')\"\n",
              "              title=\"Convert this dataframe to an interactive table.\"\n",
              "              style=\"display:none;\">\n",
              "        \n",
              "  <svg xmlns=\"http://www.w3.org/2000/svg\" height=\"24px\"viewBox=\"0 0 24 24\"\n",
              "       width=\"24px\">\n",
              "    <path d=\"M0 0h24v24H0V0z\" fill=\"none\"/>\n",
              "    <path d=\"M18.56 5.44l.94 2.06.94-2.06 2.06-.94-2.06-.94-.94-2.06-.94 2.06-2.06.94zm-11 1L8.5 8.5l.94-2.06 2.06-.94-2.06-.94L8.5 2.5l-.94 2.06-2.06.94zm10 10l.94 2.06.94-2.06 2.06-.94-2.06-.94-.94-2.06-.94 2.06-2.06.94z\"/><path d=\"M17.41 7.96l-1.37-1.37c-.4-.4-.92-.59-1.43-.59-.52 0-1.04.2-1.43.59L10.3 9.45l-7.72 7.72c-.78.78-.78 2.05 0 2.83L4 21.41c.39.39.9.59 1.41.59.51 0 1.02-.2 1.41-.59l7.78-7.78 2.81-2.81c.8-.78.8-2.07 0-2.86zM5.41 20L4 18.59l7.72-7.72 1.47 1.35L5.41 20z\"/>\n",
              "  </svg>\n",
              "      </button>\n",
              "      \n",
              "  <style>\n",
              "    .colab-df-container {\n",
              "      display:flex;\n",
              "      flex-wrap:wrap;\n",
              "      gap: 12px;\n",
              "    }\n",
              "\n",
              "    .colab-df-convert {\n",
              "      background-color: #E8F0FE;\n",
              "      border: none;\n",
              "      border-radius: 50%;\n",
              "      cursor: pointer;\n",
              "      display: none;\n",
              "      fill: #1967D2;\n",
              "      height: 32px;\n",
              "      padding: 0 0 0 0;\n",
              "      width: 32px;\n",
              "    }\n",
              "\n",
              "    .colab-df-convert:hover {\n",
              "      background-color: #E2EBFA;\n",
              "      box-shadow: 0px 1px 2px rgba(60, 64, 67, 0.3), 0px 1px 3px 1px rgba(60, 64, 67, 0.15);\n",
              "      fill: #174EA6;\n",
              "    }\n",
              "\n",
              "    [theme=dark] .colab-df-convert {\n",
              "      background-color: #3B4455;\n",
              "      fill: #D2E3FC;\n",
              "    }\n",
              "\n",
              "    [theme=dark] .colab-df-convert:hover {\n",
              "      background-color: #434B5C;\n",
              "      box-shadow: 0px 1px 3px 1px rgba(0, 0, 0, 0.15);\n",
              "      filter: drop-shadow(0px 1px 2px rgba(0, 0, 0, 0.3));\n",
              "      fill: #FFFFFF;\n",
              "    }\n",
              "  </style>\n",
              "\n",
              "      <script>\n",
              "        const buttonEl =\n",
              "          document.querySelector('#df-64c1cdcf-ed49-402c-8e24-0dd835294a5c button.colab-df-convert');\n",
              "        buttonEl.style.display =\n",
              "          google.colab.kernel.accessAllowed ? 'block' : 'none';\n",
              "\n",
              "        async function convertToInteractive(key) {\n",
              "          const element = document.querySelector('#df-64c1cdcf-ed49-402c-8e24-0dd835294a5c');\n",
              "          const dataTable =\n",
              "            await google.colab.kernel.invokeFunction('convertToInteractive',\n",
              "                                                     [key], {});\n",
              "          if (!dataTable) return;\n",
              "\n",
              "          const docLinkHtml = 'Like what you see? Visit the ' +\n",
              "            '<a target=\"_blank\" href=https://colab.research.google.com/notebooks/data_table.ipynb>data table notebook</a>'\n",
              "            + ' to learn more about interactive tables.';\n",
              "          element.innerHTML = '';\n",
              "          dataTable['output_type'] = 'display_data';\n",
              "          await google.colab.output.renderOutput(dataTable, element);\n",
              "          const docLink = document.createElement('div');\n",
              "          docLink.innerHTML = docLinkHtml;\n",
              "          element.appendChild(docLink);\n",
              "        }\n",
              "      </script>\n",
              "    </div>\n",
              "  </div>\n",
              "  "
            ]
          },
          "metadata": {}
        }
      ],
      "source": [
        "import scipy.stats as sp\n",
        "def remove_outliers(df,columns_to_analyse,threshold = 4):\n",
        "    z_score = np.abs(sp.zscore(df[columns_to_analyse]))\n",
        "    df_no_outlier = df.loc[(z_score < threshold).all(axis=1),:].copy()\n",
        "    print(df_no_outlier.shape)\n",
        "    return df_no_outlier\n",
        "numerical_columns=[\"varsta\"]\n",
        "data = remove_outliers(data,numerical_columns,threshold = 10)\n",
        "\n",
        "display(data.describe())"
      ]
    },
    {
      "cell_type": "code",
      "execution_count": 29,
      "metadata": {
        "id": "4jBJ-wqp6Gt6",
        "outputId": "2dd6f52f-4762-41fc-fb3d-2ccaae838979",
        "colab": {
          "base_uri": "https://localhost:8080/"
        }
      },
      "outputs": [
        {
          "output_type": "execute_result",
          "data": {
            "text/plain": [
              "40.000    146\n",
              "42.000    145\n",
              "44.000    138\n",
              "52.000    137\n",
              "41.000    136\n",
              "         ... \n",
              "90.000      1\n",
              "82.000      1\n",
              "81.000      1\n",
              "83.000      1\n",
              "87.000      1\n",
              "Name: varsta, Length: 70, dtype: int64"
            ]
          },
          "metadata": {},
          "execution_count": 29
        }
      ],
      "source": [
        "data[\"varsta\"].value_counts()"
      ]
    },
    {
      "cell_type": "code",
      "execution_count": 30,
      "metadata": {
        "id": "Yz-O1oSR6Gt7",
        "outputId": "89e8d4d4-3827-4291-96ce-1c400f3bb2a0",
        "colab": {
          "base_uri": "https://localhost:8080/",
          "height": 424
        }
      },
      "outputs": [
        {
          "output_type": "execute_result",
          "data": {
            "text/plain": [
              "      varsta  mediu   atractie_reclama voi_contracta_serviciile\n",
              "1     37.000  Urban         Asa si-asa       Poate da, poate nu\n",
              "4     44.000  Urban         Asa si-asa       Poate da, poate nu\n",
              "5     32.000  Urban         Asa si-asa       Poate da, poate nu\n",
              "6     43.000  Urban  Nu-mi place deloc              Probabil da\n",
              "7     33.000  Urban         Asa si-asa          Cu siguranta nu\n",
              "...      ...    ...                ...                      ...\n",
              "4493  37.000  Urban   Nu prea-mi place           Mai degraba nu\n",
              "4494  26.000  Rural         Asa si-asa              Probabil da\n",
              "4496  27.000  Rural         Asa si-asa       Poate da, poate nu\n",
              "4497  33.000  Urban     imi place mult          Cu siguranta da\n",
              "4498  41.000  Urban     imi place mult              Probabil da\n",
              "\n",
              "[4035 rows x 4 columns]"
            ],
            "text/html": [
              "\n",
              "  <div id=\"df-658d4b84-6664-4788-8b5e-3380eff03d0f\">\n",
              "    <div class=\"colab-df-container\">\n",
              "      <div>\n",
              "<style scoped>\n",
              "    .dataframe tbody tr th:only-of-type {\n",
              "        vertical-align: middle;\n",
              "    }\n",
              "\n",
              "    .dataframe tbody tr th {\n",
              "        vertical-align: top;\n",
              "    }\n",
              "\n",
              "    .dataframe thead th {\n",
              "        text-align: right;\n",
              "    }\n",
              "</style>\n",
              "<table border=\"1\" class=\"dataframe\">\n",
              "  <thead>\n",
              "    <tr style=\"text-align: right;\">\n",
              "      <th></th>\n",
              "      <th>varsta</th>\n",
              "      <th>mediu</th>\n",
              "      <th>atractie_reclama</th>\n",
              "      <th>voi_contracta_serviciile</th>\n",
              "    </tr>\n",
              "  </thead>\n",
              "  <tbody>\n",
              "    <tr>\n",
              "      <th>1</th>\n",
              "      <td>37.000</td>\n",
              "      <td>Urban</td>\n",
              "      <td>Asa si-asa</td>\n",
              "      <td>Poate da, poate nu</td>\n",
              "    </tr>\n",
              "    <tr>\n",
              "      <th>4</th>\n",
              "      <td>44.000</td>\n",
              "      <td>Urban</td>\n",
              "      <td>Asa si-asa</td>\n",
              "      <td>Poate da, poate nu</td>\n",
              "    </tr>\n",
              "    <tr>\n",
              "      <th>5</th>\n",
              "      <td>32.000</td>\n",
              "      <td>Urban</td>\n",
              "      <td>Asa si-asa</td>\n",
              "      <td>Poate da, poate nu</td>\n",
              "    </tr>\n",
              "    <tr>\n",
              "      <th>6</th>\n",
              "      <td>43.000</td>\n",
              "      <td>Urban</td>\n",
              "      <td>Nu-mi place deloc</td>\n",
              "      <td>Probabil da</td>\n",
              "    </tr>\n",
              "    <tr>\n",
              "      <th>7</th>\n",
              "      <td>33.000</td>\n",
              "      <td>Urban</td>\n",
              "      <td>Asa si-asa</td>\n",
              "      <td>Cu siguranta nu</td>\n",
              "    </tr>\n",
              "    <tr>\n",
              "      <th>...</th>\n",
              "      <td>...</td>\n",
              "      <td>...</td>\n",
              "      <td>...</td>\n",
              "      <td>...</td>\n",
              "    </tr>\n",
              "    <tr>\n",
              "      <th>4493</th>\n",
              "      <td>37.000</td>\n",
              "      <td>Urban</td>\n",
              "      <td>Nu prea-mi place</td>\n",
              "      <td>Mai degraba nu</td>\n",
              "    </tr>\n",
              "    <tr>\n",
              "      <th>4494</th>\n",
              "      <td>26.000</td>\n",
              "      <td>Rural</td>\n",
              "      <td>Asa si-asa</td>\n",
              "      <td>Probabil da</td>\n",
              "    </tr>\n",
              "    <tr>\n",
              "      <th>4496</th>\n",
              "      <td>27.000</td>\n",
              "      <td>Rural</td>\n",
              "      <td>Asa si-asa</td>\n",
              "      <td>Poate da, poate nu</td>\n",
              "    </tr>\n",
              "    <tr>\n",
              "      <th>4497</th>\n",
              "      <td>33.000</td>\n",
              "      <td>Urban</td>\n",
              "      <td>imi place mult</td>\n",
              "      <td>Cu siguranta da</td>\n",
              "    </tr>\n",
              "    <tr>\n",
              "      <th>4498</th>\n",
              "      <td>41.000</td>\n",
              "      <td>Urban</td>\n",
              "      <td>imi place mult</td>\n",
              "      <td>Probabil da</td>\n",
              "    </tr>\n",
              "  </tbody>\n",
              "</table>\n",
              "<p>4035 rows × 4 columns</p>\n",
              "</div>\n",
              "      <button class=\"colab-df-convert\" onclick=\"convertToInteractive('df-658d4b84-6664-4788-8b5e-3380eff03d0f')\"\n",
              "              title=\"Convert this dataframe to an interactive table.\"\n",
              "              style=\"display:none;\">\n",
              "        \n",
              "  <svg xmlns=\"http://www.w3.org/2000/svg\" height=\"24px\"viewBox=\"0 0 24 24\"\n",
              "       width=\"24px\">\n",
              "    <path d=\"M0 0h24v24H0V0z\" fill=\"none\"/>\n",
              "    <path d=\"M18.56 5.44l.94 2.06.94-2.06 2.06-.94-2.06-.94-.94-2.06-.94 2.06-2.06.94zm-11 1L8.5 8.5l.94-2.06 2.06-.94-2.06-.94L8.5 2.5l-.94 2.06-2.06.94zm10 10l.94 2.06.94-2.06 2.06-.94-2.06-.94-.94-2.06-.94 2.06-2.06.94z\"/><path d=\"M17.41 7.96l-1.37-1.37c-.4-.4-.92-.59-1.43-.59-.52 0-1.04.2-1.43.59L10.3 9.45l-7.72 7.72c-.78.78-.78 2.05 0 2.83L4 21.41c.39.39.9.59 1.41.59.51 0 1.02-.2 1.41-.59l7.78-7.78 2.81-2.81c.8-.78.8-2.07 0-2.86zM5.41 20L4 18.59l7.72-7.72 1.47 1.35L5.41 20z\"/>\n",
              "  </svg>\n",
              "      </button>\n",
              "      \n",
              "  <style>\n",
              "    .colab-df-container {\n",
              "      display:flex;\n",
              "      flex-wrap:wrap;\n",
              "      gap: 12px;\n",
              "    }\n",
              "\n",
              "    .colab-df-convert {\n",
              "      background-color: #E8F0FE;\n",
              "      border: none;\n",
              "      border-radius: 50%;\n",
              "      cursor: pointer;\n",
              "      display: none;\n",
              "      fill: #1967D2;\n",
              "      height: 32px;\n",
              "      padding: 0 0 0 0;\n",
              "      width: 32px;\n",
              "    }\n",
              "\n",
              "    .colab-df-convert:hover {\n",
              "      background-color: #E2EBFA;\n",
              "      box-shadow: 0px 1px 2px rgba(60, 64, 67, 0.3), 0px 1px 3px 1px rgba(60, 64, 67, 0.15);\n",
              "      fill: #174EA6;\n",
              "    }\n",
              "\n",
              "    [theme=dark] .colab-df-convert {\n",
              "      background-color: #3B4455;\n",
              "      fill: #D2E3FC;\n",
              "    }\n",
              "\n",
              "    [theme=dark] .colab-df-convert:hover {\n",
              "      background-color: #434B5C;\n",
              "      box-shadow: 0px 1px 3px 1px rgba(0, 0, 0, 0.15);\n",
              "      filter: drop-shadow(0px 1px 2px rgba(0, 0, 0, 0.3));\n",
              "      fill: #FFFFFF;\n",
              "    }\n",
              "  </style>\n",
              "\n",
              "      <script>\n",
              "        const buttonEl =\n",
              "          document.querySelector('#df-658d4b84-6664-4788-8b5e-3380eff03d0f button.colab-df-convert');\n",
              "        buttonEl.style.display =\n",
              "          google.colab.kernel.accessAllowed ? 'block' : 'none';\n",
              "\n",
              "        async function convertToInteractive(key) {\n",
              "          const element = document.querySelector('#df-658d4b84-6664-4788-8b5e-3380eff03d0f');\n",
              "          const dataTable =\n",
              "            await google.colab.kernel.invokeFunction('convertToInteractive',\n",
              "                                                     [key], {});\n",
              "          if (!dataTable) return;\n",
              "\n",
              "          const docLinkHtml = 'Like what you see? Visit the ' +\n",
              "            '<a target=\"_blank\" href=https://colab.research.google.com/notebooks/data_table.ipynb>data table notebook</a>'\n",
              "            + ' to learn more about interactive tables.';\n",
              "          element.innerHTML = '';\n",
              "          dataTable['output_type'] = 'display_data';\n",
              "          await google.colab.output.renderOutput(dataTable, element);\n",
              "          const docLink = document.createElement('div');\n",
              "          docLink.innerHTML = docLinkHtml;\n",
              "          element.appendChild(docLink);\n",
              "        }\n",
              "      </script>\n",
              "    </div>\n",
              "  </div>\n",
              "  "
            ]
          },
          "metadata": {},
          "execution_count": 30
        }
      ],
      "source": [
        "\n",
        "#dfa1 = data.copy()\n",
        "#dfa1.tail(2)\n",
        "data.replace(r'^\\s*$', np.nan, regex=True)\n",
        "data.fillna(data.mode().iloc[0]) \n",
        "data.head()\n",
        "data.dropna(inplace=True)\n",
        "data\n",
        "#dfa1.isnull().values.any()\n",
        "\n",
        "#full_data['varsta_bin'] = pd.cut(full_data['varsta'], [0, 20, 30, 45, 60, 100], \n",
        "#                              labels=['0-20', '20-30', '30-45', '45-60','60-100'])"
      ]
    },
    {
      "cell_type": "markdown",
      "metadata": {
        "id": "4SWuwUiV6Gt8"
      },
      "source": [
        "## A1. Translate Categories to Numerical Variables - kMeans"
      ]
    },
    {
      "cell_type": "code",
      "execution_count": 31,
      "metadata": {
        "id": "FXdJunrB6Gt-"
      },
      "outputs": [],
      "source": [
        "data_kmeans = data.copy()"
      ]
    },
    {
      "cell_type": "code",
      "execution_count": 32,
      "metadata": {
        "id": "PW9nVC7G6Gt_"
      },
      "outputs": [],
      "source": [
        "# scalarea valorilor numerice\n",
        "col_num = list(data_kmeans.dtypes[data_kmeans.dtypes == \"float64\"].index)\n",
        "if len(col_num) !=0:\n",
        "    scaler = StandardScaler()\n",
        "    data_kmeans[col_num] = scaler.fit_transform(data_kmeans[col_num])\n",
        "    data_kmeans.describe()"
      ]
    },
    {
      "cell_type": "code",
      "execution_count": 33,
      "metadata": {
        "id": "PY2KtT0Y6GuA",
        "outputId": "7061db16-cde3-41d5-ca46-7e99105a7ee1",
        "colab": {
          "base_uri": "https://localhost:8080/",
          "height": 424
        }
      },
      "outputs": [
        {
          "output_type": "execute_result",
          "data": {
            "text/plain": [
              "      varsta  mediu_n  atractie_reclama_n  voi_contracta_serviciile_n\n",
              "1     -0.398        1                   0                           3\n",
              "4      0.189        1                   0                           3\n",
              "5     -0.817        1                   0                           3\n",
              "6      0.105        1                   2                           4\n",
              "7     -0.733        1                   0                           1\n",
              "...      ...      ...                 ...                         ...\n",
              "4493  -0.398        1                   1                           2\n",
              "4494  -1.320        0                   0                           4\n",
              "4496  -1.236        0                   0                           3\n",
              "4497  -0.733        1                   4                           0\n",
              "4498  -0.062        1                   4                           4\n",
              "\n",
              "[4035 rows x 4 columns]"
            ],
            "text/html": [
              "\n",
              "  <div id=\"df-5d76d866-d855-42c6-b8e9-f29a9e672a4a\">\n",
              "    <div class=\"colab-df-container\">\n",
              "      <div>\n",
              "<style scoped>\n",
              "    .dataframe tbody tr th:only-of-type {\n",
              "        vertical-align: middle;\n",
              "    }\n",
              "\n",
              "    .dataframe tbody tr th {\n",
              "        vertical-align: top;\n",
              "    }\n",
              "\n",
              "    .dataframe thead th {\n",
              "        text-align: right;\n",
              "    }\n",
              "</style>\n",
              "<table border=\"1\" class=\"dataframe\">\n",
              "  <thead>\n",
              "    <tr style=\"text-align: right;\">\n",
              "      <th></th>\n",
              "      <th>varsta</th>\n",
              "      <th>mediu_n</th>\n",
              "      <th>atractie_reclama_n</th>\n",
              "      <th>voi_contracta_serviciile_n</th>\n",
              "    </tr>\n",
              "  </thead>\n",
              "  <tbody>\n",
              "    <tr>\n",
              "      <th>1</th>\n",
              "      <td>-0.398</td>\n",
              "      <td>1</td>\n",
              "      <td>0</td>\n",
              "      <td>3</td>\n",
              "    </tr>\n",
              "    <tr>\n",
              "      <th>4</th>\n",
              "      <td>0.189</td>\n",
              "      <td>1</td>\n",
              "      <td>0</td>\n",
              "      <td>3</td>\n",
              "    </tr>\n",
              "    <tr>\n",
              "      <th>5</th>\n",
              "      <td>-0.817</td>\n",
              "      <td>1</td>\n",
              "      <td>0</td>\n",
              "      <td>3</td>\n",
              "    </tr>\n",
              "    <tr>\n",
              "      <th>6</th>\n",
              "      <td>0.105</td>\n",
              "      <td>1</td>\n",
              "      <td>2</td>\n",
              "      <td>4</td>\n",
              "    </tr>\n",
              "    <tr>\n",
              "      <th>7</th>\n",
              "      <td>-0.733</td>\n",
              "      <td>1</td>\n",
              "      <td>0</td>\n",
              "      <td>1</td>\n",
              "    </tr>\n",
              "    <tr>\n",
              "      <th>...</th>\n",
              "      <td>...</td>\n",
              "      <td>...</td>\n",
              "      <td>...</td>\n",
              "      <td>...</td>\n",
              "    </tr>\n",
              "    <tr>\n",
              "      <th>4493</th>\n",
              "      <td>-0.398</td>\n",
              "      <td>1</td>\n",
              "      <td>1</td>\n",
              "      <td>2</td>\n",
              "    </tr>\n",
              "    <tr>\n",
              "      <th>4494</th>\n",
              "      <td>-1.320</td>\n",
              "      <td>0</td>\n",
              "      <td>0</td>\n",
              "      <td>4</td>\n",
              "    </tr>\n",
              "    <tr>\n",
              "      <th>4496</th>\n",
              "      <td>-1.236</td>\n",
              "      <td>0</td>\n",
              "      <td>0</td>\n",
              "      <td>3</td>\n",
              "    </tr>\n",
              "    <tr>\n",
              "      <th>4497</th>\n",
              "      <td>-0.733</td>\n",
              "      <td>1</td>\n",
              "      <td>4</td>\n",
              "      <td>0</td>\n",
              "    </tr>\n",
              "    <tr>\n",
              "      <th>4498</th>\n",
              "      <td>-0.062</td>\n",
              "      <td>1</td>\n",
              "      <td>4</td>\n",
              "      <td>4</td>\n",
              "    </tr>\n",
              "  </tbody>\n",
              "</table>\n",
              "<p>4035 rows × 4 columns</p>\n",
              "</div>\n",
              "      <button class=\"colab-df-convert\" onclick=\"convertToInteractive('df-5d76d866-d855-42c6-b8e9-f29a9e672a4a')\"\n",
              "              title=\"Convert this dataframe to an interactive table.\"\n",
              "              style=\"display:none;\">\n",
              "        \n",
              "  <svg xmlns=\"http://www.w3.org/2000/svg\" height=\"24px\"viewBox=\"0 0 24 24\"\n",
              "       width=\"24px\">\n",
              "    <path d=\"M0 0h24v24H0V0z\" fill=\"none\"/>\n",
              "    <path d=\"M18.56 5.44l.94 2.06.94-2.06 2.06-.94-2.06-.94-.94-2.06-.94 2.06-2.06.94zm-11 1L8.5 8.5l.94-2.06 2.06-.94-2.06-.94L8.5 2.5l-.94 2.06-2.06.94zm10 10l.94 2.06.94-2.06 2.06-.94-2.06-.94-.94-2.06-.94 2.06-2.06.94z\"/><path d=\"M17.41 7.96l-1.37-1.37c-.4-.4-.92-.59-1.43-.59-.52 0-1.04.2-1.43.59L10.3 9.45l-7.72 7.72c-.78.78-.78 2.05 0 2.83L4 21.41c.39.39.9.59 1.41.59.51 0 1.02-.2 1.41-.59l7.78-7.78 2.81-2.81c.8-.78.8-2.07 0-2.86zM5.41 20L4 18.59l7.72-7.72 1.47 1.35L5.41 20z\"/>\n",
              "  </svg>\n",
              "      </button>\n",
              "      \n",
              "  <style>\n",
              "    .colab-df-container {\n",
              "      display:flex;\n",
              "      flex-wrap:wrap;\n",
              "      gap: 12px;\n",
              "    }\n",
              "\n",
              "    .colab-df-convert {\n",
              "      background-color: #E8F0FE;\n",
              "      border: none;\n",
              "      border-radius: 50%;\n",
              "      cursor: pointer;\n",
              "      display: none;\n",
              "      fill: #1967D2;\n",
              "      height: 32px;\n",
              "      padding: 0 0 0 0;\n",
              "      width: 32px;\n",
              "    }\n",
              "\n",
              "    .colab-df-convert:hover {\n",
              "      background-color: #E2EBFA;\n",
              "      box-shadow: 0px 1px 2px rgba(60, 64, 67, 0.3), 0px 1px 3px 1px rgba(60, 64, 67, 0.15);\n",
              "      fill: #174EA6;\n",
              "    }\n",
              "\n",
              "    [theme=dark] .colab-df-convert {\n",
              "      background-color: #3B4455;\n",
              "      fill: #D2E3FC;\n",
              "    }\n",
              "\n",
              "    [theme=dark] .colab-df-convert:hover {\n",
              "      background-color: #434B5C;\n",
              "      box-shadow: 0px 1px 3px 1px rgba(0, 0, 0, 0.15);\n",
              "      filter: drop-shadow(0px 1px 2px rgba(0, 0, 0, 0.3));\n",
              "      fill: #FFFFFF;\n",
              "    }\n",
              "  </style>\n",
              "\n",
              "      <script>\n",
              "        const buttonEl =\n",
              "          document.querySelector('#df-5d76d866-d855-42c6-b8e9-f29a9e672a4a button.colab-df-convert');\n",
              "        buttonEl.style.display =\n",
              "          google.colab.kernel.accessAllowed ? 'block' : 'none';\n",
              "\n",
              "        async function convertToInteractive(key) {\n",
              "          const element = document.querySelector('#df-5d76d866-d855-42c6-b8e9-f29a9e672a4a');\n",
              "          const dataTable =\n",
              "            await google.colab.kernel.invokeFunction('convertToInteractive',\n",
              "                                                     [key], {});\n",
              "          if (!dataTable) return;\n",
              "\n",
              "          const docLinkHtml = 'Like what you see? Visit the ' +\n",
              "            '<a target=\"_blank\" href=https://colab.research.google.com/notebooks/data_table.ipynb>data table notebook</a>'\n",
              "            + ' to learn more about interactive tables.';\n",
              "          element.innerHTML = '';\n",
              "          dataTable['output_type'] = 'display_data';\n",
              "          await google.colab.output.renderOutput(dataTable, element);\n",
              "          const docLink = document.createElement('div');\n",
              "          docLink.innerHTML = docLinkHtml;\n",
              "          element.appendChild(docLink);\n",
              "        }\n",
              "      </script>\n",
              "    </div>\n",
              "  </div>\n",
              "  "
            ]
          },
          "metadata": {},
          "execution_count": 33
        }
      ],
      "source": [
        "# convertirea in coloane numerice\n",
        "def convert_to_codes(df, col): \n",
        "    df[col + \"_n\"] = df[col].astype(\"category\").cat.codes\n",
        "    df = df.drop(col, axis=1, inplace=True)\n",
        "for col in list(data_kmeans.dtypes[data_kmeans.dtypes == np.object].index):\n",
        "    convert_to_codes(data_kmeans, col)\n",
        "data_kmeans"
      ]
    },
    {
      "cell_type": "code",
      "execution_count": 34,
      "metadata": {
        "id": "u9bzXcmY6GuB",
        "outputId": "72c6d361-c2e5-40e3-e9a4-4b477f6d0824",
        "colab": {
          "base_uri": "https://localhost:8080/",
          "height": 387
        }
      },
      "outputs": [
        {
          "output_type": "stream",
          "name": "stdout",
          "text": [
            "varsta                        70\n",
            "mediu_n                        2\n",
            "atractie_reclama_n             5\n",
            "voi_contracta_serviciile_n     5\n",
            "dtype: int64\n"
          ]
        },
        {
          "output_type": "execute_result",
          "data": {
            "text/plain": [
              "        varsta  mediu_n  atractie_reclama_n  voi_contracta_serviciile_n\n",
              "count 4035.000 4035.000            4035.000                    4035.000\n",
              "mean    -0.000    0.605               1.527                       2.429\n",
              "std      1.000    0.489               1.647                       1.232\n",
              "min     -2.159    0.000               0.000                       0.000\n",
              "25%     -0.733    0.000               0.000                       1.000\n",
              "50%     -0.062    1.000               1.000                       3.000\n",
              "75%      0.692    1.000               3.000                       3.000\n",
              "max      4.046    1.000               4.000                       4.000"
            ],
            "text/html": [
              "\n",
              "  <div id=\"df-3e7012ae-dc45-443d-8f97-d29dd9355ecc\">\n",
              "    <div class=\"colab-df-container\">\n",
              "      <div>\n",
              "<style scoped>\n",
              "    .dataframe tbody tr th:only-of-type {\n",
              "        vertical-align: middle;\n",
              "    }\n",
              "\n",
              "    .dataframe tbody tr th {\n",
              "        vertical-align: top;\n",
              "    }\n",
              "\n",
              "    .dataframe thead th {\n",
              "        text-align: right;\n",
              "    }\n",
              "</style>\n",
              "<table border=\"1\" class=\"dataframe\">\n",
              "  <thead>\n",
              "    <tr style=\"text-align: right;\">\n",
              "      <th></th>\n",
              "      <th>varsta</th>\n",
              "      <th>mediu_n</th>\n",
              "      <th>atractie_reclama_n</th>\n",
              "      <th>voi_contracta_serviciile_n</th>\n",
              "    </tr>\n",
              "  </thead>\n",
              "  <tbody>\n",
              "    <tr>\n",
              "      <th>count</th>\n",
              "      <td>4035.000</td>\n",
              "      <td>4035.000</td>\n",
              "      <td>4035.000</td>\n",
              "      <td>4035.000</td>\n",
              "    </tr>\n",
              "    <tr>\n",
              "      <th>mean</th>\n",
              "      <td>-0.000</td>\n",
              "      <td>0.605</td>\n",
              "      <td>1.527</td>\n",
              "      <td>2.429</td>\n",
              "    </tr>\n",
              "    <tr>\n",
              "      <th>std</th>\n",
              "      <td>1.000</td>\n",
              "      <td>0.489</td>\n",
              "      <td>1.647</td>\n",
              "      <td>1.232</td>\n",
              "    </tr>\n",
              "    <tr>\n",
              "      <th>min</th>\n",
              "      <td>-2.159</td>\n",
              "      <td>0.000</td>\n",
              "      <td>0.000</td>\n",
              "      <td>0.000</td>\n",
              "    </tr>\n",
              "    <tr>\n",
              "      <th>25%</th>\n",
              "      <td>-0.733</td>\n",
              "      <td>0.000</td>\n",
              "      <td>0.000</td>\n",
              "      <td>1.000</td>\n",
              "    </tr>\n",
              "    <tr>\n",
              "      <th>50%</th>\n",
              "      <td>-0.062</td>\n",
              "      <td>1.000</td>\n",
              "      <td>1.000</td>\n",
              "      <td>3.000</td>\n",
              "    </tr>\n",
              "    <tr>\n",
              "      <th>75%</th>\n",
              "      <td>0.692</td>\n",
              "      <td>1.000</td>\n",
              "      <td>3.000</td>\n",
              "      <td>3.000</td>\n",
              "    </tr>\n",
              "    <tr>\n",
              "      <th>max</th>\n",
              "      <td>4.046</td>\n",
              "      <td>1.000</td>\n",
              "      <td>4.000</td>\n",
              "      <td>4.000</td>\n",
              "    </tr>\n",
              "  </tbody>\n",
              "</table>\n",
              "</div>\n",
              "      <button class=\"colab-df-convert\" onclick=\"convertToInteractive('df-3e7012ae-dc45-443d-8f97-d29dd9355ecc')\"\n",
              "              title=\"Convert this dataframe to an interactive table.\"\n",
              "              style=\"display:none;\">\n",
              "        \n",
              "  <svg xmlns=\"http://www.w3.org/2000/svg\" height=\"24px\"viewBox=\"0 0 24 24\"\n",
              "       width=\"24px\">\n",
              "    <path d=\"M0 0h24v24H0V0z\" fill=\"none\"/>\n",
              "    <path d=\"M18.56 5.44l.94 2.06.94-2.06 2.06-.94-2.06-.94-.94-2.06-.94 2.06-2.06.94zm-11 1L8.5 8.5l.94-2.06 2.06-.94-2.06-.94L8.5 2.5l-.94 2.06-2.06.94zm10 10l.94 2.06.94-2.06 2.06-.94-2.06-.94-.94-2.06-.94 2.06-2.06.94z\"/><path d=\"M17.41 7.96l-1.37-1.37c-.4-.4-.92-.59-1.43-.59-.52 0-1.04.2-1.43.59L10.3 9.45l-7.72 7.72c-.78.78-.78 2.05 0 2.83L4 21.41c.39.39.9.59 1.41.59.51 0 1.02-.2 1.41-.59l7.78-7.78 2.81-2.81c.8-.78.8-2.07 0-2.86zM5.41 20L4 18.59l7.72-7.72 1.47 1.35L5.41 20z\"/>\n",
              "  </svg>\n",
              "      </button>\n",
              "      \n",
              "  <style>\n",
              "    .colab-df-container {\n",
              "      display:flex;\n",
              "      flex-wrap:wrap;\n",
              "      gap: 12px;\n",
              "    }\n",
              "\n",
              "    .colab-df-convert {\n",
              "      background-color: #E8F0FE;\n",
              "      border: none;\n",
              "      border-radius: 50%;\n",
              "      cursor: pointer;\n",
              "      display: none;\n",
              "      fill: #1967D2;\n",
              "      height: 32px;\n",
              "      padding: 0 0 0 0;\n",
              "      width: 32px;\n",
              "    }\n",
              "\n",
              "    .colab-df-convert:hover {\n",
              "      background-color: #E2EBFA;\n",
              "      box-shadow: 0px 1px 2px rgba(60, 64, 67, 0.3), 0px 1px 3px 1px rgba(60, 64, 67, 0.15);\n",
              "      fill: #174EA6;\n",
              "    }\n",
              "\n",
              "    [theme=dark] .colab-df-convert {\n",
              "      background-color: #3B4455;\n",
              "      fill: #D2E3FC;\n",
              "    }\n",
              "\n",
              "    [theme=dark] .colab-df-convert:hover {\n",
              "      background-color: #434B5C;\n",
              "      box-shadow: 0px 1px 3px 1px rgba(0, 0, 0, 0.15);\n",
              "      filter: drop-shadow(0px 1px 2px rgba(0, 0, 0, 0.3));\n",
              "      fill: #FFFFFF;\n",
              "    }\n",
              "  </style>\n",
              "\n",
              "      <script>\n",
              "        const buttonEl =\n",
              "          document.querySelector('#df-3e7012ae-dc45-443d-8f97-d29dd9355ecc button.colab-df-convert');\n",
              "        buttonEl.style.display =\n",
              "          google.colab.kernel.accessAllowed ? 'block' : 'none';\n",
              "\n",
              "        async function convertToInteractive(key) {\n",
              "          const element = document.querySelector('#df-3e7012ae-dc45-443d-8f97-d29dd9355ecc');\n",
              "          const dataTable =\n",
              "            await google.colab.kernel.invokeFunction('convertToInteractive',\n",
              "                                                     [key], {});\n",
              "          if (!dataTable) return;\n",
              "\n",
              "          const docLinkHtml = 'Like what you see? Visit the ' +\n",
              "            '<a target=\"_blank\" href=https://colab.research.google.com/notebooks/data_table.ipynb>data table notebook</a>'\n",
              "            + ' to learn more about interactive tables.';\n",
              "          element.innerHTML = '';\n",
              "          dataTable['output_type'] = 'display_data';\n",
              "          await google.colab.output.renderOutput(dataTable, element);\n",
              "          const docLink = document.createElement('div');\n",
              "          docLink.innerHTML = docLinkHtml;\n",
              "          element.appendChild(docLink);\n",
              "        }\n",
              "      </script>\n",
              "    </div>\n",
              "  </div>\n",
              "  "
            ]
          },
          "metadata": {},
          "execution_count": 34
        }
      ],
      "source": [
        "print(data_kmeans.select_dtypes(exclude=\"object\").nunique())\n",
        "data_kmeans.describe()"
      ]
    },
    {
      "cell_type": "code",
      "execution_count": 35,
      "metadata": {
        "id": "BgaBXErV6GuC",
        "outputId": "de53955d-9351-4a25-bb86-a8653d29984e",
        "colab": {
          "base_uri": "https://localhost:8080/",
          "height": 311
        }
      },
      "outputs": [
        {
          "output_type": "display_data",
          "data": {
            "text/plain": [
              "<Figure size 432x288 with 1 Axes>"
            ],
            "image/png": "[encoded data removed]"
          },
          "metadata": {
            "needs_background": "light"
          }
        },
        {
          "output_type": "stream",
          "name": "stdout",
          "text": [
            "elbow value = optimal k: 4  | elbow score: 7,667.278\n"
          ]
        }
      ],
      "source": [
        "# elbow plot using distortion metric\n",
        "\n",
        "model = KMeans(random_state=RNDN)\n",
        "visualiser = KElbowVisualizer(\n",
        "        model, \n",
        "        k=(2,nK), \n",
        "        metric=\"distortion\",\n",
        "        locate_elbow=True, \n",
        "        timings=False)\n",
        "visualiser.fit(data_kmeans)      \n",
        "visualiser.show()  \n",
        "print(\"elbow value = optimal k:\", f'{visualiser.elbow_value_:.0f}', \\\n",
        "            \" | elbow score:\", f'{visualiser.elbow_score_:,.3f}')\n",
        "    "
      ]
    },
    {
      "cell_type": "code",
      "execution_count": 36,
      "metadata": {
        "id": "T9BUmgZc6GuD",
        "outputId": "c1594344-8232-4aef-efcc-8cd01eb4a2ab",
        "colab": {
          "base_uri": "https://localhost:8080/",
          "height": 311
        }
      },
      "outputs": [
        {
          "output_type": "display_data",
          "data": {
            "text/plain": [
              "<Figure size 432x288 with 1 Axes>"
            ],
            "image/png": "[encoded data removed]"
          },
          "metadata": {
            "needs_background": "light"
          }
        },
        {
          "output_type": "stream",
          "name": "stdout",
          "text": [
            "elbow value = optimal k: 2  | elbow score: 0.410\n"
          ]
        }
      ],
      "source": [
        "# elbow plot using silhouette metric\n",
        "visualiser = KElbowVisualizer(\n",
        "        model, \n",
        "        k=(2,nK), \n",
        "        metric=\"silhouette\",\n",
        "        locate_elbow=True, \n",
        "        timings=False)\n",
        "visualiser.fit(data_kmeans)      \n",
        "visualiser.show()  \n",
        "print(\"elbow value = optimal k:\", f'{visualiser.elbow_value_:.0f}', \\\n",
        "            \" | elbow score:\", f'{visualiser.elbow_score_:,.3f}')"
      ]
    },
    {
      "cell_type": "code",
      "execution_count": 37,
      "metadata": {
        "id": "hdnSFal36GuE",
        "outputId": "7a0963d8-10e8-4d84-9704-b2d3ad6202fa",
        "colab": {
          "base_uri": "https://localhost:8080/",
          "height": 540
        }
      },
      "outputs": [
        {
          "output_type": "stream",
          "name": "stdout",
          "text": [
            "inertia scores (sum of squared errors) by number of clusters:\n",
            "2 : 12,987\n",
            "3 : 9,433\n",
            "4 : 7,667\n",
            "5 : 6,679\n",
            "6 : 6,017\n",
            "7 : 5,499\n",
            "8 : 4,952\n",
            "9 : 4,513\n",
            "10 : 4,181\n",
            "11 : 3,989\n"
          ]
        },
        {
          "output_type": "display_data",
          "data": {
            "text/plain": [
              "<Figure size 576x360 with 1 Axes>"
            ],
            "image/png": "[encoded data removed]"
          },
          "metadata": {
            "needs_background": "light"
          }
        }
      ],
      "source": [
        "# kmeans: looking for the elbow - compare number of clusters by their inertia scores\n",
        "\n",
        "# run kMeans for alternative number of clusters k\n",
        "inertia_scores = [KMeans(\n",
        "                    n_clusters=k, \n",
        "                    init='k-means++', \n",
        "                    n_init=10, max_iter=100, random_state=RNDN). \\\n",
        "                    fit(data_kmeans).inertia_ \\\n",
        "                    for k in range(2,nK)]\n",
        "\n",
        "\n",
        "dict_inertia = dict(zip(range(2,nK), inertia_scores))\n",
        "print(\"inertia scores (sum of squared errors) by number of clusters:\")\n",
        "_ = [print(k, \":\", f'{v:,.0f}') for k,v in dict_inertia.items()]\n",
        "\n",
        "# scree plot: look for elbow\n",
        "plt.figure(figsize=[8,5])\n",
        "plt.plot(range(2,nK), inertia_scores, color=\"blue\")\n",
        "plt.title(\"inertia (sum of squared errors) vs. number of clusters\")\n",
        "plt.xticks(np.arange(2,nK,1.0))\n",
        "plt.xlabel(\"number of clusters K\")\n",
        "plt.ylabel(\"inertia\");"
      ]
    },
    {
      "cell_type": "code",
      "execution_count": 38,
      "metadata": {
        "id": "k9lxz-Z56GuF",
        "outputId": "782fd701-0e26-494a-8cd6-8785c810d0c4",
        "colab": {
          "base_uri": "https://localhost:8080/"
        }
      },
      "outputs": [
        {
          "output_type": "stream",
          "name": "stdout",
          "text": [
            "elbow at k = 4 clusters\n"
          ]
        }
      ],
      "source": [
        "# inertia scores: confirm visual clue of elbow plot\n",
        "# KneeLocator class will detect elbows if curve is convex; if concavem will detect knees\n",
        "inertia_knee_a3 = KneeLocator(\n",
        "        range(2,nK), \n",
        "        inertia_scores, \n",
        "        S=0.1, curve=\"convex\", direction=\"decreasing\")\n",
        "\n",
        "K_inertia_a3 = inertia_knee_a3.elbow   \n",
        "print(\"elbow at k =\", f'{K_inertia_a3:.0f} clusters')"
      ]
    },
    {
      "cell_type": "code",
      "execution_count": 39,
      "metadata": {
        "id": "O_DZKyNQ6GuF"
      },
      "outputs": [],
      "source": [
        "# kMeans: silhouette score\n",
        "# initial example: silhouette score for 4 clusters\n",
        "k = 4\n",
        "model = KMeans(n_clusters=k, random_state=RNDN, verbose=0)\n",
        "clusters_assigned = model.fit_predict(data_kmeans)\n",
        "#K_sil_a3 = silhouette_score(data_kmeans, clusters_assigned)\n",
        "#print(\"silhouette score for\", k, \"clusters: \" f'{K_sil_a3:.3f}')"
      ]
    },
    {
      "cell_type": "code",
      "execution_count": 40,
      "metadata": {
        "id": "cqJfW4QZ6GuG",
        "outputId": "4e00e644-9c9d-459a-94ee-483c6c5ddf74",
        "colab": {
          "base_uri": "https://localhost:8080/",
          "height": 105
        }
      },
      "outputs": [
        {
          "output_type": "execute_result",
          "data": {
            "text/plain": [
              "'sil_scores = [silhouette_score(\\n                                data_kmeans, \\n                                KMeans(n_clusters=k, random_state=RNDN).                                 fit_predict(data_kmeans))                                 for k in tqdm(range(2,nK))]\\n\\ndict_sil = dict(zip(range(2,nK), sil_scores))\\nprint(\"silhouette scores:\")\\n_ = [print(k, \":\", f\\'{v:,.3f}\\') for k,v in dict_sil.items()]\\nK_sil_a3 = 4 #max(dict_sil, key=dict_sil.get)            # optimal clusters\\nsil_opt_a3 = dict_sil[K_sil_a3]                       # optimal silhouette score\\nprint(\"maximum silhouette score for\", f\\'{K_sil_a3:.0f} clusters: \\', f\\'{sil_opt_a3:.3f}\\')\\n\\nplt.figure(figsize=[7,5])\\nplt.plot(range(2,nK), sil_scores, color=\"red\")\\nplt.title(\"silhouette scores vs. number of clusters\")\\nplt.xticks(np.arange(2,nK,1))\\nplt.xlabel(\"number of clusters K\")\\nplt.ylabel(\"silhouette score\")\\nplt.show()'"
            ],
            "application/vnd.google.colaboratory.intrinsic+json": {
              "type": "string"
            }
          },
          "metadata": {},
          "execution_count": 40
        }
      ],
      "source": [
        "# find maximum silhouette score for up to kN clusters\n",
        "'''sil_scores = [silhouette_score(\n",
        "                                data_kmeans, \n",
        "                                KMeans(n_clusters=k, random_state=RNDN). \\\n",
        "                                fit_predict(data_kmeans)) \\\n",
        "                                for k in tqdm(range(2,nK))]\n",
        "\n",
        "dict_sil = dict(zip(range(2,nK), sil_scores))\n",
        "print(\"silhouette scores:\")\n",
        "_ = [print(k, \":\", f'{v:,.3f}') for k,v in dict_sil.items()]\n",
        "K_sil_a3 = 4 #max(dict_sil, key=dict_sil.get)            # optimal clusters\n",
        "sil_opt_a3 = dict_sil[K_sil_a3]                       # optimal silhouette score\n",
        "print(\"maximum silhouette score for\", f'{K_sil_a3:.0f} clusters: ', f'{sil_opt_a3:.3f}')\n",
        "\n",
        "plt.figure(figsize=[7,5])\n",
        "plt.plot(range(2,nK), sil_scores, color=\"red\")\n",
        "plt.title(\"silhouette scores vs. number of clusters\")\n",
        "plt.xticks(np.arange(2,nK,1))\n",
        "plt.xlabel(\"number of clusters K\")\n",
        "plt.ylabel(\"silhouette score\")\n",
        "plt.show()'''"
      ]
    },
    {
      "cell_type": "code",
      "execution_count": 41,
      "metadata": {
        "id": "txAkv84l6GuH"
      },
      "outputs": [],
      "source": [
        "# %split training vs test dataset\n",
        "#df_train, df_test = train_test_split(data_kmeans, train_size=0.8, random_state=42)"
      ]
    },
    {
      "cell_type": "code",
      "execution_count": 42,
      "metadata": {
        "id": "hyoo0OOE6GuI",
        "outputId": "af14d3e4-bdf4-467b-b385-7e102e3d434d",
        "colab": {
          "base_uri": "https://localhost:8080/",
          "height": 206
        }
      },
      "outputs": [
        {
          "output_type": "execute_result",
          "data": {
            "text/plain": [
              "      Cluster  varsta  mediu_n  atractie_reclama_n  voi_contracta_serviciile_n\n",
              "4493        2  -0.398        1                   1                           2\n",
              "4494        0  -1.320        0                   0                           4\n",
              "4496        0  -1.236        0                   0                           3\n",
              "4497        1  -0.733        1                   4                           0\n",
              "4498        3  -0.062        1                   4                           4"
            ],
            "text/html": [
              "\n",
              "  <div id=\"df-fb1936fa-7420-4887-91a5-2d59b740878f\">\n",
              "    <div class=\"colab-df-container\">\n",
              "      <div>\n",
              "<style scoped>\n",
              "    .dataframe tbody tr th:only-of-type {\n",
              "        vertical-align: middle;\n",
              "    }\n",
              "\n",
              "    .dataframe tbody tr th {\n",
              "        vertical-align: top;\n",
              "    }\n",
              "\n",
              "    .dataframe thead th {\n",
              "        text-align: right;\n",
              "    }\n",
              "</style>\n",
              "<table border=\"1\" class=\"dataframe\">\n",
              "  <thead>\n",
              "    <tr style=\"text-align: right;\">\n",
              "      <th></th>\n",
              "      <th>Cluster</th>\n",
              "      <th>varsta</th>\n",
              "      <th>mediu_n</th>\n",
              "      <th>atractie_reclama_n</th>\n",
              "      <th>voi_contracta_serviciile_n</th>\n",
              "    </tr>\n",
              "  </thead>\n",
              "  <tbody>\n",
              "    <tr>\n",
              "      <th>4493</th>\n",
              "      <td>2</td>\n",
              "      <td>-0.398</td>\n",
              "      <td>1</td>\n",
              "      <td>1</td>\n",
              "      <td>2</td>\n",
              "    </tr>\n",
              "    <tr>\n",
              "      <th>4494</th>\n",
              "      <td>0</td>\n",
              "      <td>-1.320</td>\n",
              "      <td>0</td>\n",
              "      <td>0</td>\n",
              "      <td>4</td>\n",
              "    </tr>\n",
              "    <tr>\n",
              "      <th>4496</th>\n",
              "      <td>0</td>\n",
              "      <td>-1.236</td>\n",
              "      <td>0</td>\n",
              "      <td>0</td>\n",
              "      <td>3</td>\n",
              "    </tr>\n",
              "    <tr>\n",
              "      <th>4497</th>\n",
              "      <td>1</td>\n",
              "      <td>-0.733</td>\n",
              "      <td>1</td>\n",
              "      <td>4</td>\n",
              "      <td>0</td>\n",
              "    </tr>\n",
              "    <tr>\n",
              "      <th>4498</th>\n",
              "      <td>3</td>\n",
              "      <td>-0.062</td>\n",
              "      <td>1</td>\n",
              "      <td>4</td>\n",
              "      <td>4</td>\n",
              "    </tr>\n",
              "  </tbody>\n",
              "</table>\n",
              "</div>\n",
              "      <button class=\"colab-df-convert\" onclick=\"convertToInteractive('df-fb1936fa-7420-4887-91a5-2d59b740878f')\"\n",
              "              title=\"Convert this dataframe to an interactive table.\"\n",
              "              style=\"display:none;\">\n",
              "        \n",
              "  <svg xmlns=\"http://www.w3.org/2000/svg\" height=\"24px\"viewBox=\"0 0 24 24\"\n",
              "       width=\"24px\">\n",
              "    <path d=\"M0 0h24v24H0V0z\" fill=\"none\"/>\n",
              "    <path d=\"M18.56 5.44l.94 2.06.94-2.06 2.06-.94-2.06-.94-.94-2.06-.94 2.06-2.06.94zm-11 1L8.5 8.5l.94-2.06 2.06-.94-2.06-.94L8.5 2.5l-.94 2.06-2.06.94zm10 10l.94 2.06.94-2.06 2.06-.94-2.06-.94-.94-2.06-.94 2.06-2.06.94z\"/><path d=\"M17.41 7.96l-1.37-1.37c-.4-.4-.92-.59-1.43-.59-.52 0-1.04.2-1.43.59L10.3 9.45l-7.72 7.72c-.78.78-.78 2.05 0 2.83L4 21.41c.39.39.9.59 1.41.59.51 0 1.02-.2 1.41-.59l7.78-7.78 2.81-2.81c.8-.78.8-2.07 0-2.86zM5.41 20L4 18.59l7.72-7.72 1.47 1.35L5.41 20z\"/>\n",
              "  </svg>\n",
              "      </button>\n",
              "      \n",
              "  <style>\n",
              "    .colab-df-container {\n",
              "      display:flex;\n",
              "      flex-wrap:wrap;\n",
              "      gap: 12px;\n",
              "    }\n",
              "\n",
              "    .colab-df-convert {\n",
              "      background-color: #E8F0FE;\n",
              "      border: none;\n",
              "      border-radius: 50%;\n",
              "      cursor: pointer;\n",
              "      display: none;\n",
              "      fill: #1967D2;\n",
              "      height: 32px;\n",
              "      padding: 0 0 0 0;\n",
              "      width: 32px;\n",
              "    }\n",
              "\n",
              "    .colab-df-convert:hover {\n",
              "      background-color: #E2EBFA;\n",
              "      box-shadow: 0px 1px 2px rgba(60, 64, 67, 0.3), 0px 1px 3px 1px rgba(60, 64, 67, 0.15);\n",
              "      fill: #174EA6;\n",
              "    }\n",
              "\n",
              "    [theme=dark] .colab-df-convert {\n",
              "      background-color: #3B4455;\n",
              "      fill: #D2E3FC;\n",
              "    }\n",
              "\n",
              "    [theme=dark] .colab-df-convert:hover {\n",
              "      background-color: #434B5C;\n",
              "      box-shadow: 0px 1px 3px 1px rgba(0, 0, 0, 0.15);\n",
              "      filter: drop-shadow(0px 1px 2px rgba(0, 0, 0, 0.3));\n",
              "      fill: #FFFFFF;\n",
              "    }\n",
              "  </style>\n",
              "\n",
              "      <script>\n",
              "        const buttonEl =\n",
              "          document.querySelector('#df-fb1936fa-7420-4887-91a5-2d59b740878f button.colab-df-convert');\n",
              "        buttonEl.style.display =\n",
              "          google.colab.kernel.accessAllowed ? 'block' : 'none';\n",
              "\n",
              "        async function convertToInteractive(key) {\n",
              "          const element = document.querySelector('#df-fb1936fa-7420-4887-91a5-2d59b740878f');\n",
              "          const dataTable =\n",
              "            await google.colab.kernel.invokeFunction('convertToInteractive',\n",
              "                                                     [key], {});\n",
              "          if (!dataTable) return;\n",
              "\n",
              "          const docLinkHtml = 'Like what you see? Visit the ' +\n",
              "            '<a target=\"_blank\" href=https://colab.research.google.com/notebooks/data_table.ipynb>data table notebook</a>'\n",
              "            + ' to learn more about interactive tables.';\n",
              "          element.innerHTML = '';\n",
              "          dataTable['output_type'] = 'display_data';\n",
              "          await google.colab.output.renderOutput(dataTable, element);\n",
              "          const docLink = document.createElement('div');\n",
              "          docLink.innerHTML = docLinkHtml;\n",
              "          element.appendChild(docLink);\n",
              "        }\n",
              "      </script>\n",
              "    </div>\n",
              "  </div>\n",
              "  "
            ]
          },
          "metadata": {},
          "execution_count": 42
        }
      ],
      "source": [
        "#rularea modelului pentru obtinerea clusterelor\n",
        "model = KMeans(n_clusters=k, random_state=42)\n",
        "clusters = model.fit_predict(data_kmeans)\n",
        "#inserarea clusterelor ca o coloana\n",
        "data_kmeans.insert(0, \"Cluster\", clusters)    \n",
        "data_kmeans.tail()"
      ]
    },
    {
      "cell_type": "code",
      "execution_count": 43,
      "metadata": {
        "id": "0_Y5b9lB6GuI",
        "outputId": "650aa798-d1e7-4082-d281-7d0346f84ba8",
        "colab": {
          "base_uri": "https://localhost:8080/",
          "height": 206
        }
      },
      "outputs": [
        {
          "output_type": "execute_result",
          "data": {
            "text/plain": [
              "         varsta  mediu   atractie_reclama voi_contracta_serviciile\n",
              "Cluster                                                           \n",
              "0        40.000  Urban         Asa si-asa       Poate da, poate nu\n",
              "1        42.000  Urban  Nu-mi place deloc          Cu siguranta nu\n",
              "2        42.000  Urban         Asa si-asa          Cu siguranta nu\n",
              "3        43.000  Urban     imi place mult              Probabil da"
            ],
            "text/html": [
              "\n",
              "  <div id=\"df-04fbb732-fcdd-4045-91e2-f5e0497c4c7f\">\n",
              "    <div class=\"colab-df-container\">\n",
              "      <div>\n",
              "<style scoped>\n",
              "    .dataframe tbody tr th:only-of-type {\n",
              "        vertical-align: middle;\n",
              "    }\n",
              "\n",
              "    .dataframe tbody tr th {\n",
              "        vertical-align: top;\n",
              "    }\n",
              "\n",
              "    .dataframe thead th {\n",
              "        text-align: right;\n",
              "    }\n",
              "</style>\n",
              "<table border=\"1\" class=\"dataframe\">\n",
              "  <thead>\n",
              "    <tr style=\"text-align: right;\">\n",
              "      <th></th>\n",
              "      <th>varsta</th>\n",
              "      <th>mediu</th>\n",
              "      <th>atractie_reclama</th>\n",
              "      <th>voi_contracta_serviciile</th>\n",
              "    </tr>\n",
              "    <tr>\n",
              "      <th>Cluster</th>\n",
              "      <th></th>\n",
              "      <th></th>\n",
              "      <th></th>\n",
              "      <th></th>\n",
              "    </tr>\n",
              "  </thead>\n",
              "  <tbody>\n",
              "    <tr>\n",
              "      <th>0</th>\n",
              "      <td>40.000</td>\n",
              "      <td>Urban</td>\n",
              "      <td>Asa si-asa</td>\n",
              "      <td>Poate da, poate nu</td>\n",
              "    </tr>\n",
              "    <tr>\n",
              "      <th>1</th>\n",
              "      <td>42.000</td>\n",
              "      <td>Urban</td>\n",
              "      <td>Nu-mi place deloc</td>\n",
              "      <td>Cu siguranta nu</td>\n",
              "    </tr>\n",
              "    <tr>\n",
              "      <th>2</th>\n",
              "      <td>42.000</td>\n",
              "      <td>Urban</td>\n",
              "      <td>Asa si-asa</td>\n",
              "      <td>Cu siguranta nu</td>\n",
              "    </tr>\n",
              "    <tr>\n",
              "      <th>3</th>\n",
              "      <td>43.000</td>\n",
              "      <td>Urban</td>\n",
              "      <td>imi place mult</td>\n",
              "      <td>Probabil da</td>\n",
              "    </tr>\n",
              "  </tbody>\n",
              "</table>\n",
              "</div>\n",
              "      <button class=\"colab-df-convert\" onclick=\"convertToInteractive('df-04fbb732-fcdd-4045-91e2-f5e0497c4c7f')\"\n",
              "              title=\"Convert this dataframe to an interactive table.\"\n",
              "              style=\"display:none;\">\n",
              "        \n",
              "  <svg xmlns=\"http://www.w3.org/2000/svg\" height=\"24px\"viewBox=\"0 0 24 24\"\n",
              "       width=\"24px\">\n",
              "    <path d=\"M0 0h24v24H0V0z\" fill=\"none\"/>\n",
              "    <path d=\"M18.56 5.44l.94 2.06.94-2.06 2.06-.94-2.06-.94-.94-2.06-.94 2.06-2.06.94zm-11 1L8.5 8.5l.94-2.06 2.06-.94-2.06-.94L8.5 2.5l-.94 2.06-2.06.94zm10 10l.94 2.06.94-2.06 2.06-.94-2.06-.94-.94-2.06-.94 2.06-2.06.94z\"/><path d=\"M17.41 7.96l-1.37-1.37c-.4-.4-.92-.59-1.43-.59-.52 0-1.04.2-1.43.59L10.3 9.45l-7.72 7.72c-.78.78-.78 2.05 0 2.83L4 21.41c.39.39.9.59 1.41.59.51 0 1.02-.2 1.41-.59l7.78-7.78 2.81-2.81c.8-.78.8-2.07 0-2.86zM5.41 20L4 18.59l7.72-7.72 1.47 1.35L5.41 20z\"/>\n",
              "  </svg>\n",
              "      </button>\n",
              "      \n",
              "  <style>\n",
              "    .colab-df-container {\n",
              "      display:flex;\n",
              "      flex-wrap:wrap;\n",
              "      gap: 12px;\n",
              "    }\n",
              "\n",
              "    .colab-df-convert {\n",
              "      background-color: #E8F0FE;\n",
              "      border: none;\n",
              "      border-radius: 50%;\n",
              "      cursor: pointer;\n",
              "      display: none;\n",
              "      fill: #1967D2;\n",
              "      height: 32px;\n",
              "      padding: 0 0 0 0;\n",
              "      width: 32px;\n",
              "    }\n",
              "\n",
              "    .colab-df-convert:hover {\n",
              "      background-color: #E2EBFA;\n",
              "      box-shadow: 0px 1px 2px rgba(60, 64, 67, 0.3), 0px 1px 3px 1px rgba(60, 64, 67, 0.15);\n",
              "      fill: #174EA6;\n",
              "    }\n",
              "\n",
              "    [theme=dark] .colab-df-convert {\n",
              "      background-color: #3B4455;\n",
              "      fill: #D2E3FC;\n",
              "    }\n",
              "\n",
              "    [theme=dark] .colab-df-convert:hover {\n",
              "      background-color: #434B5C;\n",
              "      box-shadow: 0px 1px 3px 1px rgba(0, 0, 0, 0.15);\n",
              "      filter: drop-shadow(0px 1px 2px rgba(0, 0, 0, 0.3));\n",
              "      fill: #FFFFFF;\n",
              "    }\n",
              "  </style>\n",
              "\n",
              "      <script>\n",
              "        const buttonEl =\n",
              "          document.querySelector('#df-04fbb732-fcdd-4045-91e2-f5e0497c4c7f button.colab-df-convert');\n",
              "        buttonEl.style.display =\n",
              "          google.colab.kernel.accessAllowed ? 'block' : 'none';\n",
              "\n",
              "        async function convertToInteractive(key) {\n",
              "          const element = document.querySelector('#df-04fbb732-fcdd-4045-91e2-f5e0497c4c7f');\n",
              "          const dataTable =\n",
              "            await google.colab.kernel.invokeFunction('convertToInteractive',\n",
              "                                                     [key], {});\n",
              "          if (!dataTable) return;\n",
              "\n",
              "          const docLinkHtml = 'Like what you see? Visit the ' +\n",
              "            '<a target=\"_blank\" href=https://colab.research.google.com/notebooks/data_table.ipynb>data table notebook</a>'\n",
              "            + ' to learn more about interactive tables.';\n",
              "          element.innerHTML = '';\n",
              "          dataTable['output_type'] = 'display_data';\n",
              "          await google.colab.output.renderOutput(dataTable, element);\n",
              "          const docLink = document.createElement('div');\n",
              "          docLink.innerHTML = docLinkHtml;\n",
              "          element.appendChild(docLink);\n",
              "        }\n",
              "      </script>\n",
              "    </div>\n",
              "  </div>\n",
              "  "
            ]
          },
          "metadata": {},
          "execution_count": 43
        }
      ],
      "source": [
        "# valorile cele mai frecvente\n",
        "data_kmeans_clusters=data.copy()\n",
        "data_kmeans_clusters[\"Cluster\"] = data_kmeans[\"Cluster\"]\n",
        "data_kmeans_clusters.groupby([\"Cluster\"]).agg(lambda x:x.value_counts().index[0])"
      ]
    },
    {
      "cell_type": "code",
      "execution_count": 44,
      "metadata": {
        "id": "TsCA5-3u6GuJ"
      },
      "outputs": [],
      "source": [
        "def cluster_profile(data):\n",
        "    data_clusters = data.groupby(\"Cluster\").agg({ \n",
        "        \"varsta\": \"median\",\n",
        "        \"mediu\": lambda x: x.value_counts().index[0],\n",
        "        \"voi_contracta_serviciile\": lambda x: x.value_counts().index[0],\n",
        "        \"atractie_reclama\": lambda x: x.value_counts().index[0],\n",
        "                                    }).sort_values(by=[\"varsta\"], ascending=False)\n",
        "    \n",
        "    # numar de coloane categorice\n",
        "    col_cat = len(data.select_dtypes(\"object\").nunique())\n",
        "    \n",
        "    # numar de clustere\n",
        "    nr_clustere = data[\"Cluster\"].nunique()\n",
        "\n",
        "    for k in tqdm(range(nr_clustere)):\n",
        "        data_cluster_k = data[data[\"Cluster\"]==k]\n",
        "        varsta = data_cluster_k[\"varsta\"].median()\n",
        "        nr = data_cluster_k.shape[0]\n",
        "\n",
        "        fig = plt.figure(figsize=(25, 12))\n",
        "        fig.suptitle(\"Cluster \" + str(k) + \": \" + \\\n",
        "               \" nr: | \" + f'{nr:,.0f}' + \\\n",
        "                \" | varsta medie: \" + f'{varsta:.0f}' )\n",
        "        i=0\n",
        "        for j in cluster_columns:\n",
        "            if j!=\"varsta\":\n",
        "                ax1 = plt.subplot2grid((2,col_cat),(0,i))\n",
        "                plt.pie(data_cluster_k[j].value_counts(), \n",
        "                        labels=data_cluster_k[j].unique())\n",
        "                plt.title(j)\n",
        "                i=i+1         \n",
        "    return data_clusters"
      ]
    },
    {
      "cell_type": "code",
      "execution_count": 45,
      "metadata": {
        "id": "N4dG7w-m6GuK",
        "outputId": "c0f19b99-90ea-44e8-ca6e-cd61a5fbbbfc",
        "colab": {
          "base_uri": "https://localhost:8080/",
          "height": 1000
        }
      },
      "outputs": [
        {
          "output_type": "stream",
          "name": "stderr",
          "text": [
            "100%|██████████| 4/4 [00:00<00:00,  5.49it/s]\n"
          ]
        },
        {
          "output_type": "execute_result",
          "data": {
            "text/plain": [
              "Cluster                                   1                   0  \\\n",
              "varsta                               42.000              41.000   \n",
              "mediu                                 Urban               Urban   \n",
              "voi_contracta_serviciile    Cu siguranta nu  Poate da, poate nu   \n",
              "atractie_reclama          Nu-mi place deloc          Asa si-asa   \n",
              "\n",
              "Cluster                                 2               3  \n",
              "varsta                             41.000          41.000  \n",
              "mediu                               Urban           Urban  \n",
              "voi_contracta_serviciile  Cu siguranta nu     Probabil da  \n",
              "atractie_reclama               Asa si-asa  imi place mult  "
            ],
            "text/html": [
              "\n",
              "  <div id=\"df-187d1335-b4c8-4b52-b179-ddc20e23bd56\">\n",
              "    <div class=\"colab-df-container\">\n",
              "      <div>\n",
              "<style scoped>\n",
              "    .dataframe tbody tr th:only-of-type {\n",
              "        vertical-align: middle;\n",
              "    }\n",
              "\n",
              "    .dataframe tbody tr th {\n",
              "        vertical-align: top;\n",
              "    }\n",
              "\n",
              "    .dataframe thead th {\n",
              "        text-align: right;\n",
              "    }\n",
              "</style>\n",
              "<table border=\"1\" class=\"dataframe\">\n",
              "  <thead>\n",
              "    <tr style=\"text-align: right;\">\n",
              "      <th>Cluster</th>\n",
              "      <th>1</th>\n",
              "      <th>0</th>\n",
              "      <th>2</th>\n",
              "      <th>3</th>\n",
              "    </tr>\n",
              "  </thead>\n",
              "  <tbody>\n",
              "    <tr>\n",
              "      <th>varsta</th>\n",
              "      <td>42.000</td>\n",
              "      <td>41.000</td>\n",
              "      <td>41.000</td>\n",
              "      <td>41.000</td>\n",
              "    </tr>\n",
              "    <tr>\n",
              "      <th>mediu</th>\n",
              "      <td>Urban</td>\n",
              "      <td>Urban</td>\n",
              "      <td>Urban</td>\n",
              "      <td>Urban</td>\n",
              "    </tr>\n",
              "    <tr>\n",
              "      <th>voi_contracta_serviciile</th>\n",
              "      <td>Cu siguranta nu</td>\n",
              "      <td>Poate da, poate nu</td>\n",
              "      <td>Cu siguranta nu</td>\n",
              "      <td>Probabil da</td>\n",
              "    </tr>\n",
              "    <tr>\n",
              "      <th>atractie_reclama</th>\n",
              "      <td>Nu-mi place deloc</td>\n",
              "      <td>Asa si-asa</td>\n",
              "      <td>Asa si-asa</td>\n",
              "      <td>imi place mult</td>\n",
              "    </tr>\n",
              "  </tbody>\n",
              "</table>\n",
              "</div>\n",
              "      <button class=\"colab-df-convert\" onclick=\"convertToInteractive('df-187d1335-b4c8-4b52-b179-ddc20e23bd56')\"\n",
              "              title=\"Convert this dataframe to an interactive table.\"\n",
              "              style=\"display:none;\">\n",
              "        \n",
              "  <svg xmlns=\"http://www.w3.org/2000/svg\" height=\"24px\"viewBox=\"0 0 24 24\"\n",
              "       width=\"24px\">\n",
              "    <path d=\"M0 0h24v24H0V0z\" fill=\"none\"/>\n",
              "    <path d=\"M18.56 5.44l.94 2.06.94-2.06 2.06-.94-2.06-.94-.94-2.06-.94 2.06-2.06.94zm-11 1L8.5 8.5l.94-2.06 2.06-.94-2.06-.94L8.5 2.5l-.94 2.06-2.06.94zm10 10l.94 2.06.94-2.06 2.06-.94-2.06-.94-.94-2.06-.94 2.06-2.06.94z\"/><path d=\"M17.41 7.96l-1.37-1.37c-.4-.4-.92-.59-1.43-.59-.52 0-1.04.2-1.43.59L10.3 9.45l-7.72 7.72c-.78.78-.78 2.05 0 2.83L4 21.41c.39.39.9.59 1.41.59.51 0 1.02-.2 1.41-.59l7.78-7.78 2.81-2.81c.8-.78.8-2.07 0-2.86zM5.41 20L4 18.59l7.72-7.72 1.47 1.35L5.41 20z\"/>\n",
              "  </svg>\n",
              "      </button>\n",
              "      \n",
              "  <style>\n",
              "    .colab-df-container {\n",
              "      display:flex;\n",
              "      flex-wrap:wrap;\n",
              "      gap: 12px;\n",
              "    }\n",
              "\n",
              "    .colab-df-convert {\n",
              "      background-color: #E8F0FE;\n",
              "      border: none;\n",
              "      border-radius: 50%;\n",
              "      cursor: pointer;\n",
              "      display: none;\n",
              "      fill: #1967D2;\n",
              "      height: 32px;\n",
              "      padding: 0 0 0 0;\n",
              "      width: 32px;\n",
              "    }\n",
              "\n",
              "    .colab-df-convert:hover {\n",
              "      background-color: #E2EBFA;\n",
              "      box-shadow: 0px 1px 2px rgba(60, 64, 67, 0.3), 0px 1px 3px 1px rgba(60, 64, 67, 0.15);\n",
              "      fill: #174EA6;\n",
              "    }\n",
              "\n",
              "    [theme=dark] .colab-df-convert {\n",
              "      background-color: #3B4455;\n",
              "      fill: #D2E3FC;\n",
              "    }\n",
              "\n",
              "    [theme=dark] .colab-df-convert:hover {\n",
              "      background-color: #434B5C;\n",
              "      box-shadow: 0px 1px 3px 1px rgba(0, 0, 0, 0.15);\n",
              "      filter: drop-shadow(0px 1px 2px rgba(0, 0, 0, 0.3));\n",
              "      fill: #FFFFFF;\n",
              "    }\n",
              "  </style>\n",
              "\n",
              "      <script>\n",
              "        const buttonEl =\n",
              "          document.querySelector('#df-187d1335-b4c8-4b52-b179-ddc20e23bd56 button.colab-df-convert');\n",
              "        buttonEl.style.display =\n",
              "          google.colab.kernel.accessAllowed ? 'block' : 'none';\n",
              "\n",
              "        async function convertToInteractive(key) {\n",
              "          const element = document.querySelector('#df-187d1335-b4c8-4b52-b179-ddc20e23bd56');\n",
              "          const dataTable =\n",
              "            await google.colab.kernel.invokeFunction('convertToInteractive',\n",
              "                                                     [key], {});\n",
              "          if (!dataTable) return;\n",
              "\n",
              "          const docLinkHtml = 'Like what you see? Visit the ' +\n",
              "            '<a target=\"_blank\" href=https://colab.research.google.com/notebooks/data_table.ipynb>data table notebook</a>'\n",
              "            + ' to learn more about interactive tables.';\n",
              "          element.innerHTML = '';\n",
              "          dataTable['output_type'] = 'display_data';\n",
              "          await google.colab.output.renderOutput(dataTable, element);\n",
              "          const docLink = document.createElement('div');\n",
              "          docLink.innerHTML = docLinkHtml;\n",
              "          element.appendChild(docLink);\n",
              "        }\n",
              "      </script>\n",
              "    </div>\n",
              "  </div>\n",
              "  "
            ]
          },
          "metadata": {},
          "execution_count": 45
        },
        {
          "output_type": "display_data",
          "data": {
            "text/plain": [
              "<Figure size 1800x864 with 3 Axes>"
            ],
            "image/png": "[encoded data removed]"
          },
          "metadata": {}
        },
        {
          "output_type": "display_data",
          "data": {
            "text/plain": [
              "<Figure size 1800x864 with 3 Axes>"
            ],
            "image/png": "[encoded data removed]"
          },
          "metadata": {}
        },
        {
          "output_type": "display_data",
          "data": {
            "text/plain": [
              "<Figure size 1800x864 with 3 Axes>"
            ],
            "image/png": "[encoded data removed]"
          },
          "metadata": {}
        },
        {
          "output_type": "display_data",
          "data": {
            "text/plain": [
              "<Figure size 1800x864 with 3 Axes>"
            ],
            "image/png": "[encoded data removed]"
          },
          "metadata": {}
        }
      ],
      "source": [
        "cluster_profile(data_kmeans_clusters).T"
      ]
    },
    {
      "cell_type": "markdown",
      "metadata": {
        "id": "A8la1heD6GuK"
      },
      "source": [
        "# C. k-Prototyping for Mixed Numerical and Categorical Variables"
      ]
    },
    {
      "cell_type": "code",
      "execution_count": 46,
      "metadata": {
        "id": "oPUokRlq6GuL"
      },
      "outputs": [],
      "source": [
        "# scalarea valorilor numerice\n",
        "data_kPrototype = data.copy()\n",
        "col_num = list(data_kPrototype.dtypes[data_kPrototype.dtypes == \"float64\"].index)\n",
        "if len(col_num)!=0:\n",
        "    scaler = StandardScaler()\n",
        "    data_kPrototype[col_num] = scaler.fit_transform(data_kPrototype[col_num])\n",
        "    data_kPrototype.describe()"
      ]
    },
    {
      "cell_type": "code",
      "execution_count": 47,
      "metadata": {
        "id": "untl4C5F6GuM",
        "outputId": "2b91041e-ea5e-4272-82d1-2ba5b2618da4",
        "colab": {
          "base_uri": "https://localhost:8080/"
        }
      },
      "outputs": [
        {
          "output_type": "execute_result",
          "data": {
            "text/plain": [
              "[1, 2, 3]"
            ]
          },
          "metadata": {},
          "execution_count": 47
        }
      ],
      "source": [
        "# get indices of category columns\n",
        "index_category_columns = [data_kPrototype.columns.get_loc(col) for col in list(data_kPrototype.select_dtypes(\"object\").columns)]\n",
        "index_category_columns"
      ]
    },
    {
      "cell_type": "code",
      "execution_count": 48,
      "metadata": {
        "id": "nNogoe2b6GuM",
        "outputId": "1e79a1f3-a957-4574-9813-1636c7dbe820",
        "colab": {
          "base_uri": "https://localhost:8080/"
        }
      },
      "outputs": [
        {
          "output_type": "execute_result",
          "data": {
            "text/plain": [
              "3548.8306097615464"
            ]
          },
          "metadata": {},
          "execution_count": 48
        }
      ],
      "source": [
        "# kPrototypes\n",
        "kProto = KPrototypes(n_clusters = 4, init='Cao', n_jobs = 4)\n",
        "clusters = kProto.fit_predict(data_kPrototype, categorical=index_category_columns)\n",
        "kProto.cost_"
      ]
    },
    {
      "cell_type": "code",
      "execution_count": 49,
      "metadata": {
        "id": "EmjDBhwz6GuN",
        "outputId": "c7cfb0bc-6eb1-493a-be7c-8105992af6c3",
        "colab": {
          "base_uri": "https://localhost:8080/",
          "height": 1000
        }
      },
      "outputs": [
        {
          "output_type": "stream",
          "name": "stderr",
          "text": [
            "\r  0%|          | 0/8 [00:00<?, ?it/s]"
          ]
        },
        {
          "output_type": "stream",
          "name": "stdout",
          "text": [
            "Initialization method and algorithm are deterministic. Setting n_init to 1.\n",
            "Best run was number 1\n"
          ]
        },
        {
          "output_type": "stream",
          "name": "stderr",
          "text": [
            "\r 12%|█▎        | 1/8 [00:25<02:57, 25.30s/it]"
          ]
        },
        {
          "output_type": "stream",
          "name": "stdout",
          "text": [
            "Initialization method and algorithm are deterministic. Setting n_init to 1.\n",
            "Best run was number 10\n"
          ]
        },
        {
          "output_type": "stream",
          "name": "stderr",
          "text": [
            "\r 25%|██▌       | 2/8 [00:58<02:58, 29.76s/it]"
          ]
        },
        {
          "output_type": "stream",
          "name": "stdout",
          "text": [
            "Initialization method and algorithm are deterministic. Setting n_init to 1.\n",
            "Best run was number 1\n"
          ]
        },
        {
          "output_type": "stream",
          "name": "stderr",
          "text": [
            "\r 38%|███▊      | 3/8 [01:39<02:54, 34.96s/it]"
          ]
        },
        {
          "output_type": "stream",
          "name": "stdout",
          "text": [
            "Initialization method and algorithm are deterministic. Setting n_init to 1.\n",
            "Best run was number 9\n"
          ]
        },
        {
          "output_type": "stream",
          "name": "stderr",
          "text": [
            "\r 50%|█████     | 4/8 [02:41<03:03, 45.77s/it]"
          ]
        },
        {
          "output_type": "stream",
          "name": "stdout",
          "text": [
            "Initialization method and algorithm are deterministic. Setting n_init to 1.\n",
            "Best run was number 10\n"
          ]
        },
        {
          "output_type": "stream",
          "name": "stderr",
          "text": [
            "\r 62%|██████▎   | 5/8 [03:38<02:29, 49.80s/it]"
          ]
        },
        {
          "output_type": "stream",
          "name": "stdout",
          "text": [
            "Initialization method and algorithm are deterministic. Setting n_init to 1.\n",
            "Best run was number 1\n"
          ]
        },
        {
          "output_type": "stream",
          "name": "stderr",
          "text": [
            "\r 75%|███████▌  | 6/8 [04:44<01:50, 55.12s/it]"
          ]
        },
        {
          "output_type": "stream",
          "name": "stdout",
          "text": [
            "Initialization method and algorithm are deterministic. Setting n_init to 1.\n",
            "Best run was number 6\n"
          ]
        },
        {
          "output_type": "stream",
          "name": "stderr",
          "text": [
            "\r 88%|████████▊ | 7/8 [05:53<00:59, 59.82s/it]"
          ]
        },
        {
          "output_type": "stream",
          "name": "stdout",
          "text": [
            "Initialization method and algorithm are deterministic. Setting n_init to 1.\n",
            "Best run was number 7\n"
          ]
        },
        {
          "output_type": "stream",
          "name": "stderr",
          "text": [
            "100%|██████████| 8/8 [07:11<00:00, 53.98s/it]"
          ]
        },
        {
          "output_type": "stream",
          "name": "stdout",
          "text": [
            "Costurile:\n",
            "2 : 4674.838\n",
            "3 : 3975.631\n",
            "4 : 3571.701\n",
            "5 : 3220.566\n",
            "6 : 3003.465\n",
            "7 : 2820.308\n",
            "8 : 2685.293\n",
            "9 : 2622.838\n"
          ]
        },
        {
          "output_type": "stream",
          "name": "stderr",
          "text": [
            "\n"
          ]
        },
        {
          "output_type": "error",
          "ename": "TypeError",
          "evalue": "ignored",
          "traceback": [
            "\u001b[0;31m---------------------------------------------------------------------------\u001b[0m",
            "\u001b[0;31mTypeError\u001b[0m                                 Traceback (most recent call last)",
            "\u001b[0;32m<ipython-input-49-8de7ae8a2ffa>\u001b[0m in \u001b[0;36m<module>\u001b[0;34m()\u001b[0m\n\u001b[1;32m     11\u001b[0m \u001b[0;31m#diagrama\u001b[0m\u001b[0;34m\u001b[0m\u001b[0;34m\u001b[0m\u001b[0;34m\u001b[0m\u001b[0m\n\u001b[1;32m     12\u001b[0m \u001b[0mplt\u001b[0m\u001b[0;34m.\u001b[0m\u001b[0mfigure\u001b[0m\u001b[0;34m(\u001b[0m\u001b[0mfigsize\u001b[0m\u001b[0;34m=\u001b[0m\u001b[0;34m[\u001b[0m\u001b[0;36m8\u001b[0m\u001b[0;34m,\u001b[0m\u001b[0;36m5\u001b[0m\u001b[0;34m]\u001b[0m\u001b[0;34m)\u001b[0m\u001b[0;34m\u001b[0m\u001b[0;34m\u001b[0m\u001b[0m\n\u001b[0;32m---> 13\u001b[0;31m \u001b[0mplt\u001b[0m\u001b[0;34m.\u001b[0m\u001b[0mplot\u001b[0m\u001b[0;34m(\u001b[0m\u001b[0mcost_dict\u001b[0m\u001b[0;34m.\u001b[0m\u001b[0mkeys\u001b[0m\u001b[0;34m(\u001b[0m\u001b[0;34m)\u001b[0m\u001b[0;34m,\u001b[0m \u001b[0mcost_dict\u001b[0m\u001b[0;34m.\u001b[0m\u001b[0mvalues\u001b[0m\u001b[0;34m(\u001b[0m\u001b[0;34m)\u001b[0m\u001b[0;34m,\u001b[0m \u001b[0mcolor\u001b[0m\u001b[0;34m=\u001b[0m\u001b[0;34m\"blue\"\u001b[0m\u001b[0;34m)\u001b[0m\u001b[0;34m\u001b[0m\u001b[0;34m\u001b[0m\u001b[0m\n\u001b[0m\u001b[1;32m     14\u001b[0m \u001b[0mplt\u001b[0m\u001b[0;34m.\u001b[0m\u001b[0mtitle\u001b[0m\u001b[0;34m(\u001b[0m\u001b[0;34m\"Aflarea numarului de clustere optim\"\u001b[0m\u001b[0;34m)\u001b[0m\u001b[0;34m\u001b[0m\u001b[0;34m\u001b[0m\u001b[0m\n\u001b[1;32m     15\u001b[0m \u001b[0mplt\u001b[0m\u001b[0;34m.\u001b[0m\u001b[0mxticks\u001b[0m\u001b[0;34m(\u001b[0m\u001b[0mnp\u001b[0m\u001b[0;34m.\u001b[0m\u001b[0marange\u001b[0m\u001b[0;34m(\u001b[0m\u001b[0;36m2\u001b[0m\u001b[0;34m,\u001b[0m\u001b[0;36m10\u001b[0m\u001b[0;34m,\u001b[0m\u001b[0;36m1\u001b[0m\u001b[0;34m)\u001b[0m\u001b[0;34m)\u001b[0m\u001b[0;34m\u001b[0m\u001b[0;34m\u001b[0m\u001b[0m\n",
            "\u001b[0;32m/usr/local/lib/python3.7/dist-packages/matplotlib/pyplot.py\u001b[0m in \u001b[0;36mplot\u001b[0;34m(scalex, scaley, data, *args, **kwargs)\u001b[0m\n\u001b[1;32m   2761\u001b[0m     return gca().plot(\n\u001b[1;32m   2762\u001b[0m         *args, scalex=scalex, scaley=scaley, **({\"data\": data} if data\n\u001b[0;32m-> 2763\u001b[0;31m         is not None else {}), **kwargs)\n\u001b[0m\u001b[1;32m   2764\u001b[0m \u001b[0;34m\u001b[0m\u001b[0m\n\u001b[1;32m   2765\u001b[0m \u001b[0;34m\u001b[0m\u001b[0m\n",
            "\u001b[0;32m/usr/local/lib/python3.7/dist-packages/matplotlib/axes/_axes.py\u001b[0m in \u001b[0;36mplot\u001b[0;34m(self, scalex, scaley, data, *args, **kwargs)\u001b[0m\n\u001b[1;32m   1647\u001b[0m         \u001b[0mlines\u001b[0m \u001b[0;34m=\u001b[0m \u001b[0;34m[\u001b[0m\u001b[0;34m*\u001b[0m\u001b[0mself\u001b[0m\u001b[0;34m.\u001b[0m\u001b[0m_get_lines\u001b[0m\u001b[0;34m(\u001b[0m\u001b[0;34m*\u001b[0m\u001b[0margs\u001b[0m\u001b[0;34m,\u001b[0m \u001b[0mdata\u001b[0m\u001b[0;34m=\u001b[0m\u001b[0mdata\u001b[0m\u001b[0;34m,\u001b[0m \u001b[0;34m**\u001b[0m\u001b[0mkwargs\u001b[0m\u001b[0;34m)\u001b[0m\u001b[0;34m]\u001b[0m\u001b[0;34m\u001b[0m\u001b[0;34m\u001b[0m\u001b[0m\n\u001b[1;32m   1648\u001b[0m         \u001b[0;32mfor\u001b[0m \u001b[0mline\u001b[0m \u001b[0;32min\u001b[0m \u001b[0mlines\u001b[0m\u001b[0;34m:\u001b[0m\u001b[0;34m\u001b[0m\u001b[0;34m\u001b[0m\u001b[0m\n\u001b[0;32m-> 1649\u001b[0;31m             \u001b[0mself\u001b[0m\u001b[0;34m.\u001b[0m\u001b[0madd_line\u001b[0m\u001b[0;34m(\u001b[0m\u001b[0mline\u001b[0m\u001b[0;34m)\u001b[0m\u001b[0;34m\u001b[0m\u001b[0;34m\u001b[0m\u001b[0m\n\u001b[0m\u001b[1;32m   1650\u001b[0m         \u001b[0mself\u001b[0m\u001b[0;34m.\u001b[0m\u001b[0m_request_autoscale_view\u001b[0m\u001b[0;34m(\u001b[0m\u001b[0mscalex\u001b[0m\u001b[0;34m=\u001b[0m\u001b[0mscalex\u001b[0m\u001b[0;34m,\u001b[0m \u001b[0mscaley\u001b[0m\u001b[0;34m=\u001b[0m\u001b[0mscaley\u001b[0m\u001b[0;34m)\u001b[0m\u001b[0;34m\u001b[0m\u001b[0;34m\u001b[0m\u001b[0m\n\u001b[1;32m   1651\u001b[0m         \u001b[0;32mreturn\u001b[0m \u001b[0mlines\u001b[0m\u001b[0;34m\u001b[0m\u001b[0;34m\u001b[0m\u001b[0m\n",
            "\u001b[0;32m/usr/local/lib/python3.7/dist-packages/matplotlib/axes/_base.py\u001b[0m in \u001b[0;36madd_line\u001b[0;34m(self, line)\u001b[0m\n\u001b[1;32m   1848\u001b[0m             \u001b[0mline\u001b[0m\u001b[0;34m.\u001b[0m\u001b[0mset_clip_path\u001b[0m\u001b[0;34m(\u001b[0m\u001b[0mself\u001b[0m\u001b[0;34m.\u001b[0m\u001b[0mpatch\u001b[0m\u001b[0;34m)\u001b[0m\u001b[0;34m\u001b[0m\u001b[0;34m\u001b[0m\u001b[0m\n\u001b[1;32m   1849\u001b[0m \u001b[0;34m\u001b[0m\u001b[0m\n\u001b[0;32m-> 1850\u001b[0;31m         \u001b[0mself\u001b[0m\u001b[0;34m.\u001b[0m\u001b[0m_update_line_limits\u001b[0m\u001b[0;34m(\u001b[0m\u001b[0mline\u001b[0m\u001b[0;34m)\u001b[0m\u001b[0;34m\u001b[0m\u001b[0;34m\u001b[0m\u001b[0m\n\u001b[0m\u001b[1;32m   1851\u001b[0m         \u001b[0;32mif\u001b[0m \u001b[0;32mnot\u001b[0m \u001b[0mline\u001b[0m\u001b[0;34m.\u001b[0m\u001b[0mget_label\u001b[0m\u001b[0;34m(\u001b[0m\u001b[0;34m)\u001b[0m\u001b[0;34m:\u001b[0m\u001b[0;34m\u001b[0m\u001b[0;34m\u001b[0m\u001b[0m\n\u001b[1;32m   1852\u001b[0m             \u001b[0mline\u001b[0m\u001b[0;34m.\u001b[0m\u001b[0mset_label\u001b[0m\u001b[0;34m(\u001b[0m\u001b[0;34m'_line%d'\u001b[0m \u001b[0;34m%\u001b[0m \u001b[0mlen\u001b[0m\u001b[0;34m(\u001b[0m\u001b[0mself\u001b[0m\u001b[0;34m.\u001b[0m\u001b[0mlines\u001b[0m\u001b[0;34m)\u001b[0m\u001b[0;34m)\u001b[0m\u001b[0;34m\u001b[0m\u001b[0;34m\u001b[0m\u001b[0m\n",
            "\u001b[0;32m/usr/local/lib/python3.7/dist-packages/matplotlib/axes/_base.py\u001b[0m in \u001b[0;36m_update_line_limits\u001b[0;34m(self, line)\u001b[0m\n\u001b[1;32m   1870\u001b[0m         \u001b[0mFigures\u001b[0m \u001b[0mout\u001b[0m \u001b[0mthe\u001b[0m \u001b[0mdata\u001b[0m \u001b[0mlimit\u001b[0m \u001b[0mof\u001b[0m \u001b[0mthe\u001b[0m \u001b[0mgiven\u001b[0m \u001b[0mline\u001b[0m\u001b[0;34m,\u001b[0m \u001b[0mupdating\u001b[0m \u001b[0mself\u001b[0m\u001b[0;34m.\u001b[0m\u001b[0mdataLim\u001b[0m\u001b[0;34m.\u001b[0m\u001b[0;34m\u001b[0m\u001b[0;34m\u001b[0m\u001b[0m\n\u001b[1;32m   1871\u001b[0m         \"\"\"\n\u001b[0;32m-> 1872\u001b[0;31m         \u001b[0mpath\u001b[0m \u001b[0;34m=\u001b[0m \u001b[0mline\u001b[0m\u001b[0;34m.\u001b[0m\u001b[0mget_path\u001b[0m\u001b[0;34m(\u001b[0m\u001b[0;34m)\u001b[0m\u001b[0;34m\u001b[0m\u001b[0;34m\u001b[0m\u001b[0m\n\u001b[0m\u001b[1;32m   1873\u001b[0m         \u001b[0;32mif\u001b[0m \u001b[0mpath\u001b[0m\u001b[0;34m.\u001b[0m\u001b[0mvertices\u001b[0m\u001b[0;34m.\u001b[0m\u001b[0msize\u001b[0m \u001b[0;34m==\u001b[0m \u001b[0;36m0\u001b[0m\u001b[0;34m:\u001b[0m\u001b[0;34m\u001b[0m\u001b[0;34m\u001b[0m\u001b[0m\n\u001b[1;32m   1874\u001b[0m             \u001b[0;32mreturn\u001b[0m\u001b[0;34m\u001b[0m\u001b[0;34m\u001b[0m\u001b[0m\n",
            "\u001b[0;32m/usr/local/lib/python3.7/dist-packages/matplotlib/lines.py\u001b[0m in \u001b[0;36mget_path\u001b[0;34m(self)\u001b[0m\n\u001b[1;32m   1025\u001b[0m         \"\"\"\n\u001b[1;32m   1026\u001b[0m         \u001b[0;32mif\u001b[0m \u001b[0mself\u001b[0m\u001b[0;34m.\u001b[0m\u001b[0m_invalidy\u001b[0m \u001b[0;32mor\u001b[0m \u001b[0mself\u001b[0m\u001b[0;34m.\u001b[0m\u001b[0m_invalidx\u001b[0m\u001b[0;34m:\u001b[0m\u001b[0;34m\u001b[0m\u001b[0;34m\u001b[0m\u001b[0m\n\u001b[0;32m-> 1027\u001b[0;31m             \u001b[0mself\u001b[0m\u001b[0;34m.\u001b[0m\u001b[0mrecache\u001b[0m\u001b[0;34m(\u001b[0m\u001b[0;34m)\u001b[0m\u001b[0;34m\u001b[0m\u001b[0;34m\u001b[0m\u001b[0m\n\u001b[0m\u001b[1;32m   1028\u001b[0m         \u001b[0;32mreturn\u001b[0m \u001b[0mself\u001b[0m\u001b[0;34m.\u001b[0m\u001b[0m_path\u001b[0m\u001b[0;34m\u001b[0m\u001b[0;34m\u001b[0m\u001b[0m\n\u001b[1;32m   1029\u001b[0m \u001b[0;34m\u001b[0m\u001b[0m\n",
            "\u001b[0;32m/usr/local/lib/python3.7/dist-packages/matplotlib/lines.py\u001b[0m in \u001b[0;36mrecache\u001b[0;34m(self, always)\u001b[0m\n\u001b[1;32m    668\u001b[0m         \u001b[0;32mif\u001b[0m \u001b[0malways\u001b[0m \u001b[0;32mor\u001b[0m \u001b[0mself\u001b[0m\u001b[0;34m.\u001b[0m\u001b[0m_invalidx\u001b[0m\u001b[0;34m:\u001b[0m\u001b[0;34m\u001b[0m\u001b[0;34m\u001b[0m\u001b[0m\n\u001b[1;32m    669\u001b[0m             \u001b[0mxconv\u001b[0m \u001b[0;34m=\u001b[0m \u001b[0mself\u001b[0m\u001b[0;34m.\u001b[0m\u001b[0mconvert_xunits\u001b[0m\u001b[0;34m(\u001b[0m\u001b[0mself\u001b[0m\u001b[0;34m.\u001b[0m\u001b[0m_xorig\u001b[0m\u001b[0;34m)\u001b[0m\u001b[0;34m\u001b[0m\u001b[0;34m\u001b[0m\u001b[0m\n\u001b[0;32m--> 670\u001b[0;31m             \u001b[0mx\u001b[0m \u001b[0;34m=\u001b[0m \u001b[0m_to_unmasked_float_array\u001b[0m\u001b[0;34m(\u001b[0m\u001b[0mxconv\u001b[0m\u001b[0;34m)\u001b[0m\u001b[0;34m.\u001b[0m\u001b[0mravel\u001b[0m\u001b[0;34m(\u001b[0m\u001b[0;34m)\u001b[0m\u001b[0;34m\u001b[0m\u001b[0;34m\u001b[0m\u001b[0m\n\u001b[0m\u001b[1;32m    671\u001b[0m         \u001b[0;32melse\u001b[0m\u001b[0;34m:\u001b[0m\u001b[0;34m\u001b[0m\u001b[0;34m\u001b[0m\u001b[0m\n\u001b[1;32m    672\u001b[0m             \u001b[0mx\u001b[0m \u001b[0;34m=\u001b[0m \u001b[0mself\u001b[0m\u001b[0;34m.\u001b[0m\u001b[0m_x\u001b[0m\u001b[0;34m\u001b[0m\u001b[0;34m\u001b[0m\u001b[0m\n",
            "\u001b[0;32m/usr/local/lib/python3.7/dist-packages/matplotlib/cbook/__init__.py\u001b[0m in \u001b[0;36m_to_unmasked_float_array\u001b[0;34m(x)\u001b[0m\n\u001b[1;32m   1315\u001b[0m         \u001b[0;32mreturn\u001b[0m \u001b[0mnp\u001b[0m\u001b[0;34m.\u001b[0m\u001b[0mma\u001b[0m\u001b[0;34m.\u001b[0m\u001b[0masarray\u001b[0m\u001b[0;34m(\u001b[0m\u001b[0mx\u001b[0m\u001b[0;34m,\u001b[0m \u001b[0mfloat\u001b[0m\u001b[0;34m)\u001b[0m\u001b[0;34m.\u001b[0m\u001b[0mfilled\u001b[0m\u001b[0;34m(\u001b[0m\u001b[0mnp\u001b[0m\u001b[0;34m.\u001b[0m\u001b[0mnan\u001b[0m\u001b[0;34m)\u001b[0m\u001b[0;34m\u001b[0m\u001b[0;34m\u001b[0m\u001b[0m\n\u001b[1;32m   1316\u001b[0m     \u001b[0;32melse\u001b[0m\u001b[0;34m:\u001b[0m\u001b[0;34m\u001b[0m\u001b[0;34m\u001b[0m\u001b[0m\n\u001b[0;32m-> 1317\u001b[0;31m         \u001b[0;32mreturn\u001b[0m \u001b[0mnp\u001b[0m\u001b[0;34m.\u001b[0m\u001b[0masarray\u001b[0m\u001b[0;34m(\u001b[0m\u001b[0mx\u001b[0m\u001b[0;34m,\u001b[0m \u001b[0mfloat\u001b[0m\u001b[0;34m)\u001b[0m\u001b[0;34m\u001b[0m\u001b[0;34m\u001b[0m\u001b[0m\n\u001b[0m\u001b[1;32m   1318\u001b[0m \u001b[0;34m\u001b[0m\u001b[0m\n\u001b[1;32m   1319\u001b[0m \u001b[0;34m\u001b[0m\u001b[0m\n",
            "\u001b[0;31mTypeError\u001b[0m: float() argument must be a string or a number, not 'dict_keys'"
          ]
        },
        {
          "output_type": "display_data",
          "data": {
            "text/plain": [
              "<Figure size 576x360 with 1 Axes>"
            ],
            "image/png": "[encoded data removed]"
          },
          "metadata": {
            "needs_background": "light"
          }
        }
      ],
      "source": [
        "# rularea kPrototypes pentru diferite valori ale lui k pentru aflarea valorii optime\n",
        "cost_dict = {}\n",
        "for k in tqdm(range(2,10)):\n",
        "    kproto = KPrototypes(n_clusters=k, init='Cao', n_jobs=4, verbose=2)\n",
        "    kproto_clusters = kproto.fit_predict(data_kPrototype, categorical=index_category_columns)\n",
        "    cost_dict[k] = kproto.cost_\n",
        "#afisarea costurilor pentru diferite valori ale clusterelor\n",
        "print(\"Costurile:\")\n",
        "_ = [print(k,\":\",f'{v:.3f}') for k,v in cost_dict.items()]\n",
        "\n",
        "#diagrama\n",
        "plt.figure(figsize=[8,5])\n",
        "plt.plot(cost_dict.keys(), cost_dict.values(), color=\"blue\")\n",
        "plt.title(\"Aflarea numarului de clustere optim\")\n",
        "plt.xticks(np.arange(2,10,1))\n",
        "plt.xlabel(\"Numar de clustere K\")\n",
        "plt.ylabel(\"cost\");"
      ]
    },
    {
      "cell_type": "code",
      "execution_count": 50,
      "metadata": {
        "id": "LAutJfP-6GuO",
        "outputId": "1f912878-bcc0-43d1-a731-2013c2704e88",
        "colab": {
          "base_uri": "https://localhost:8080/"
        }
      },
      "outputs": [
        {
          "output_type": "stream",
          "name": "stdout",
          "text": [
            "elbow la k = 5 clustere\n"
          ]
        }
      ],
      "source": [
        "# clasa KneeLocator class determina numarul de clustere \n",
        "cost = KneeLocator(\n",
        "        x=list(cost_dict.keys()), \n",
        "        y=list(cost_dict.values()), \n",
        "        S=0.1, curve=\"convex\", direction=\"decreasing\", online=True)\n",
        "print(\"elbow la k =\", f'{cost.elbow:.0f} clustere')"
      ]
    },
    {
      "cell_type": "code",
      "execution_count": 51,
      "metadata": {
        "id": "yL2dNIVG6GuO",
        "outputId": "14bc6ba3-589d-446b-9ebb-f5a24d228224",
        "colab": {
          "base_uri": "https://localhost:8080/",
          "height": 206
        }
      },
      "outputs": [
        {
          "output_type": "execute_result",
          "data": {
            "text/plain": [
              "      Cluster  varsta  mediu  atractie_reclama voi_contracta_serviciile\n",
              "4493        2  37.000  Urban  Nu prea-mi place           Mai degraba nu\n",
              "4494        0  26.000  Rural        Asa si-asa              Probabil da\n",
              "4496        0  27.000  Rural        Asa si-asa       Poate da, poate nu\n",
              "4497        2  33.000  Urban    imi place mult          Cu siguranta da\n",
              "4498        2  41.000  Urban    imi place mult              Probabil da"
            ],
            "text/html": [
              "\n",
              "  <div id=\"df-92d94824-93ac-4d56-8018-884f72465ee1\">\n",
              "    <div class=\"colab-df-container\">\n",
              "      <div>\n",
              "<style scoped>\n",
              "    .dataframe tbody tr th:only-of-type {\n",
              "        vertical-align: middle;\n",
              "    }\n",
              "\n",
              "    .dataframe tbody tr th {\n",
              "        vertical-align: top;\n",
              "    }\n",
              "\n",
              "    .dataframe thead th {\n",
              "        text-align: right;\n",
              "    }\n",
              "</style>\n",
              "<table border=\"1\" class=\"dataframe\">\n",
              "  <thead>\n",
              "    <tr style=\"text-align: right;\">\n",
              "      <th></th>\n",
              "      <th>Cluster</th>\n",
              "      <th>varsta</th>\n",
              "      <th>mediu</th>\n",
              "      <th>atractie_reclama</th>\n",
              "      <th>voi_contracta_serviciile</th>\n",
              "    </tr>\n",
              "  </thead>\n",
              "  <tbody>\n",
              "    <tr>\n",
              "      <th>4493</th>\n",
              "      <td>2</td>\n",
              "      <td>37.000</td>\n",
              "      <td>Urban</td>\n",
              "      <td>Nu prea-mi place</td>\n",
              "      <td>Mai degraba nu</td>\n",
              "    </tr>\n",
              "    <tr>\n",
              "      <th>4494</th>\n",
              "      <td>0</td>\n",
              "      <td>26.000</td>\n",
              "      <td>Rural</td>\n",
              "      <td>Asa si-asa</td>\n",
              "      <td>Probabil da</td>\n",
              "    </tr>\n",
              "    <tr>\n",
              "      <th>4496</th>\n",
              "      <td>0</td>\n",
              "      <td>27.000</td>\n",
              "      <td>Rural</td>\n",
              "      <td>Asa si-asa</td>\n",
              "      <td>Poate da, poate nu</td>\n",
              "    </tr>\n",
              "    <tr>\n",
              "      <th>4497</th>\n",
              "      <td>2</td>\n",
              "      <td>33.000</td>\n",
              "      <td>Urban</td>\n",
              "      <td>imi place mult</td>\n",
              "      <td>Cu siguranta da</td>\n",
              "    </tr>\n",
              "    <tr>\n",
              "      <th>4498</th>\n",
              "      <td>2</td>\n",
              "      <td>41.000</td>\n",
              "      <td>Urban</td>\n",
              "      <td>imi place mult</td>\n",
              "      <td>Probabil da</td>\n",
              "    </tr>\n",
              "  </tbody>\n",
              "</table>\n",
              "</div>\n",
              "      <button class=\"colab-df-convert\" onclick=\"convertToInteractive('df-92d94824-93ac-4d56-8018-884f72465ee1')\"\n",
              "              title=\"Convert this dataframe to an interactive table.\"\n",
              "              style=\"display:none;\">\n",
              "        \n",
              "  <svg xmlns=\"http://www.w3.org/2000/svg\" height=\"24px\"viewBox=\"0 0 24 24\"\n",
              "       width=\"24px\">\n",
              "    <path d=\"M0 0h24v24H0V0z\" fill=\"none\"/>\n",
              "    <path d=\"M18.56 5.44l.94 2.06.94-2.06 2.06-.94-2.06-.94-.94-2.06-.94 2.06-2.06.94zm-11 1L8.5 8.5l.94-2.06 2.06-.94-2.06-.94L8.5 2.5l-.94 2.06-2.06.94zm10 10l.94 2.06.94-2.06 2.06-.94-2.06-.94-.94-2.06-.94 2.06-2.06.94z\"/><path d=\"M17.41 7.96l-1.37-1.37c-.4-.4-.92-.59-1.43-.59-.52 0-1.04.2-1.43.59L10.3 9.45l-7.72 7.72c-.78.78-.78 2.05 0 2.83L4 21.41c.39.39.9.59 1.41.59.51 0 1.02-.2 1.41-.59l7.78-7.78 2.81-2.81c.8-.78.8-2.07 0-2.86zM5.41 20L4 18.59l7.72-7.72 1.47 1.35L5.41 20z\"/>\n",
              "  </svg>\n",
              "      </button>\n",
              "      \n",
              "  <style>\n",
              "    .colab-df-container {\n",
              "      display:flex;\n",
              "      flex-wrap:wrap;\n",
              "      gap: 12px;\n",
              "    }\n",
              "\n",
              "    .colab-df-convert {\n",
              "      background-color: #E8F0FE;\n",
              "      border: none;\n",
              "      border-radius: 50%;\n",
              "      cursor: pointer;\n",
              "      display: none;\n",
              "      fill: #1967D2;\n",
              "      height: 32px;\n",
              "      padding: 0 0 0 0;\n",
              "      width: 32px;\n",
              "    }\n",
              "\n",
              "    .colab-df-convert:hover {\n",
              "      background-color: #E2EBFA;\n",
              "      box-shadow: 0px 1px 2px rgba(60, 64, 67, 0.3), 0px 1px 3px 1px rgba(60, 64, 67, 0.15);\n",
              "      fill: #174EA6;\n",
              "    }\n",
              "\n",
              "    [theme=dark] .colab-df-convert {\n",
              "      background-color: #3B4455;\n",
              "      fill: #D2E3FC;\n",
              "    }\n",
              "\n",
              "    [theme=dark] .colab-df-convert:hover {\n",
              "      background-color: #434B5C;\n",
              "      box-shadow: 0px 1px 3px 1px rgba(0, 0, 0, 0.15);\n",
              "      filter: drop-shadow(0px 1px 2px rgba(0, 0, 0, 0.3));\n",
              "      fill: #FFFFFF;\n",
              "    }\n",
              "  </style>\n",
              "\n",
              "      <script>\n",
              "        const buttonEl =\n",
              "          document.querySelector('#df-92d94824-93ac-4d56-8018-884f72465ee1 button.colab-df-convert');\n",
              "        buttonEl.style.display =\n",
              "          google.colab.kernel.accessAllowed ? 'block' : 'none';\n",
              "\n",
              "        async function convertToInteractive(key) {\n",
              "          const element = document.querySelector('#df-92d94824-93ac-4d56-8018-884f72465ee1');\n",
              "          const dataTable =\n",
              "            await google.colab.kernel.invokeFunction('convertToInteractive',\n",
              "                                                     [key], {});\n",
              "          if (!dataTable) return;\n",
              "\n",
              "          const docLinkHtml = 'Like what you see? Visit the ' +\n",
              "            '<a target=\"_blank\" href=https://colab.research.google.com/notebooks/data_table.ipynb>data table notebook</a>'\n",
              "            + ' to learn more about interactive tables.';\n",
              "          element.innerHTML = '';\n",
              "          dataTable['output_type'] = 'display_data';\n",
              "          await google.colab.output.renderOutput(dataTable, element);\n",
              "          const docLink = document.createElement('div');\n",
              "          docLink.innerHTML = docLinkHtml;\n",
              "          element.appendChild(docLink);\n",
              "        }\n",
              "      </script>\n",
              "    </div>\n",
              "  </div>\n",
              "  "
            ]
          },
          "metadata": {},
          "execution_count": 51
        }
      ],
      "source": [
        "data_kPrototype_clusters=data.copy()\n",
        "data_kPrototype_clusters.insert(0, \"Cluster\", clusters)  \n",
        "data_kPrototype_clusters.tail(5)"
      ]
    },
    {
      "cell_type": "code",
      "execution_count": 52,
      "metadata": {
        "id": "4kT4q55y6GuP",
        "outputId": "12625ead-094e-4491-fa46-92a50f144591",
        "colab": {
          "base_uri": "https://localhost:8080/",
          "height": 1000
        }
      },
      "outputs": [
        {
          "output_type": "stream",
          "name": "stderr",
          "text": [
            "100%|██████████| 4/4 [00:00<00:00, 14.50it/s]\n"
          ]
        },
        {
          "output_type": "execute_result",
          "data": {
            "text/plain": [
              "Cluster                                    1                   3  \\\n",
              "varsta                                57.000              44.000   \n",
              "mediu                                  Urban               Rural   \n",
              "voi_contracta_serviciile  Poate da, poate nu  Poate da, poate nu   \n",
              "atractie_reclama                  Asa si-asa          Asa si-asa   \n",
              "\n",
              "Cluster                                2                   0  \n",
              "varsta                            42.000              30.000  \n",
              "mediu                              Urban               Urban  \n",
              "voi_contracta_serviciile     Probabil da  Poate da, poate nu  \n",
              "atractie_reclama          imi place mult          Asa si-asa  "
            ],
            "text/html": [
              "\n",
              "  <div id=\"df-3bc2cadc-63a3-4b36-99dc-b3ff978cbf62\">\n",
              "    <div class=\"colab-df-container\">\n",
              "      <div>\n",
              "<style scoped>\n",
              "    .dataframe tbody tr th:only-of-type {\n",
              "        vertical-align: middle;\n",
              "    }\n",
              "\n",
              "    .dataframe tbody tr th {\n",
              "        vertical-align: top;\n",
              "    }\n",
              "\n",
              "    .dataframe thead th {\n",
              "        text-align: right;\n",
              "    }\n",
              "</style>\n",
              "<table border=\"1\" class=\"dataframe\">\n",
              "  <thead>\n",
              "    <tr style=\"text-align: right;\">\n",
              "      <th>Cluster</th>\n",
              "      <th>1</th>\n",
              "      <th>3</th>\n",
              "      <th>2</th>\n",
              "      <th>0</th>\n",
              "    </tr>\n",
              "  </thead>\n",
              "  <tbody>\n",
              "    <tr>\n",
              "      <th>varsta</th>\n",
              "      <td>57.000</td>\n",
              "      <td>44.000</td>\n",
              "      <td>42.000</td>\n",
              "      <td>30.000</td>\n",
              "    </tr>\n",
              "    <tr>\n",
              "      <th>mediu</th>\n",
              "      <td>Urban</td>\n",
              "      <td>Rural</td>\n",
              "      <td>Urban</td>\n",
              "      <td>Urban</td>\n",
              "    </tr>\n",
              "    <tr>\n",
              "      <th>voi_contracta_serviciile</th>\n",
              "      <td>Poate da, poate nu</td>\n",
              "      <td>Poate da, poate nu</td>\n",
              "      <td>Probabil da</td>\n",
              "      <td>Poate da, poate nu</td>\n",
              "    </tr>\n",
              "    <tr>\n",
              "      <th>atractie_reclama</th>\n",
              "      <td>Asa si-asa</td>\n",
              "      <td>Asa si-asa</td>\n",
              "      <td>imi place mult</td>\n",
              "      <td>Asa si-asa</td>\n",
              "    </tr>\n",
              "  </tbody>\n",
              "</table>\n",
              "</div>\n",
              "      <button class=\"colab-df-convert\" onclick=\"convertToInteractive('df-3bc2cadc-63a3-4b36-99dc-b3ff978cbf62')\"\n",
              "              title=\"Convert this dataframe to an interactive table.\"\n",
              "              style=\"display:none;\">\n",
              "        \n",
              "  <svg xmlns=\"http://www.w3.org/2000/svg\" height=\"24px\"viewBox=\"0 0 24 24\"\n",
              "       width=\"24px\">\n",
              "    <path d=\"M0 0h24v24H0V0z\" fill=\"none\"/>\n",
              "    <path d=\"M18.56 5.44l.94 2.06.94-2.06 2.06-.94-2.06-.94-.94-2.06-.94 2.06-2.06.94zm-11 1L8.5 8.5l.94-2.06 2.06-.94-2.06-.94L8.5 2.5l-.94 2.06-2.06.94zm10 10l.94 2.06.94-2.06 2.06-.94-2.06-.94-.94-2.06-.94 2.06-2.06.94z\"/><path d=\"M17.41 7.96l-1.37-1.37c-.4-.4-.92-.59-1.43-.59-.52 0-1.04.2-1.43.59L10.3 9.45l-7.72 7.72c-.78.78-.78 2.05 0 2.83L4 21.41c.39.39.9.59 1.41.59.51 0 1.02-.2 1.41-.59l7.78-7.78 2.81-2.81c.8-.78.8-2.07 0-2.86zM5.41 20L4 18.59l7.72-7.72 1.47 1.35L5.41 20z\"/>\n",
              "  </svg>\n",
              "      </button>\n",
              "      \n",
              "  <style>\n",
              "    .colab-df-container {\n",
              "      display:flex;\n",
              "      flex-wrap:wrap;\n",
              "      gap: 12px;\n",
              "    }\n",
              "\n",
              "    .colab-df-convert {\n",
              "      background-color: #E8F0FE;\n",
              "      border: none;\n",
              "      border-radius: 50%;\n",
              "      cursor: pointer;\n",
              "      display: none;\n",
              "      fill: #1967D2;\n",
              "      height: 32px;\n",
              "      padding: 0 0 0 0;\n",
              "      width: 32px;\n",
              "    }\n",
              "\n",
              "    .colab-df-convert:hover {\n",
              "      background-color: #E2EBFA;\n",
              "      box-shadow: 0px 1px 2px rgba(60, 64, 67, 0.3), 0px 1px 3px 1px rgba(60, 64, 67, 0.15);\n",
              "      fill: #174EA6;\n",
              "    }\n",
              "\n",
              "    [theme=dark] .colab-df-convert {\n",
              "      background-color: #3B4455;\n",
              "      fill: #D2E3FC;\n",
              "    }\n",
              "\n",
              "    [theme=dark] .colab-df-convert:hover {\n",
              "      background-color: #434B5C;\n",
              "      box-shadow: 0px 1px 3px 1px rgba(0, 0, 0, 0.15);\n",
              "      filter: drop-shadow(0px 1px 2px rgba(0, 0, 0, 0.3));\n",
              "      fill: #FFFFFF;\n",
              "    }\n",
              "  </style>\n",
              "\n",
              "      <script>\n",
              "        const buttonEl =\n",
              "          document.querySelector('#df-3bc2cadc-63a3-4b36-99dc-b3ff978cbf62 button.colab-df-convert');\n",
              "        buttonEl.style.display =\n",
              "          google.colab.kernel.accessAllowed ? 'block' : 'none';\n",
              "\n",
              "        async function convertToInteractive(key) {\n",
              "          const element = document.querySelector('#df-3bc2cadc-63a3-4b36-99dc-b3ff978cbf62');\n",
              "          const dataTable =\n",
              "            await google.colab.kernel.invokeFunction('convertToInteractive',\n",
              "                                                     [key], {});\n",
              "          if (!dataTable) return;\n",
              "\n",
              "          const docLinkHtml = 'Like what you see? Visit the ' +\n",
              "            '<a target=\"_blank\" href=https://colab.research.google.com/notebooks/data_table.ipynb>data table notebook</a>'\n",
              "            + ' to learn more about interactive tables.';\n",
              "          element.innerHTML = '';\n",
              "          dataTable['output_type'] = 'display_data';\n",
              "          await google.colab.output.renderOutput(dataTable, element);\n",
              "          const docLink = document.createElement('div');\n",
              "          docLink.innerHTML = docLinkHtml;\n",
              "          element.appendChild(docLink);\n",
              "        }\n",
              "      </script>\n",
              "    </div>\n",
              "  </div>\n",
              "  "
            ]
          },
          "metadata": {},
          "execution_count": 52
        },
        {
          "output_type": "display_data",
          "data": {
            "text/plain": [
              "<Figure size 1800x864 with 3 Axes>"
            ],
            "image/png": "[encoded data removed]"
          },
          "metadata": {}
        },
        {
          "output_type": "display_data",
          "data": {
            "text/plain": [
              "<Figure size 1800x864 with 3 Axes>"
            ],
            "image/png": "[encoded data removed]"
          },
          "metadata": {}
        },
        {
          "output_type": "display_data",
          "data": {
            "text/plain": [
              "<Figure size 1800x864 with 3 Axes>"
            ],
            "image/png": "[encoded data removed]"
          },
          "metadata": {}
        },
        {
          "output_type": "display_data",
          "data": {
            "text/plain": [
              "<Figure size 1800x864 with 3 Axes>"
            ],
            "image/png": "[encoded data removed]"
          },
          "metadata": {}
        }
      ],
      "source": [
        "# call cluster profile function\n",
        "cluster_profile(data_kPrototype_clusters).T"
      ]
    },
    {
      "cell_type": "code",
      "execution_count": null,
      "metadata": {
        "id": "fwPRe6NC6GuP"
      },
      "outputs": [],
      "source": [
        ""
      ]
    }
  ],
  "metadata": {
    "interpreter": {
      "hash": "e7d1a77ca6d083de3c161ba01b63cbb87d4d477e1959a6bbdd9ebd5d1c4b1f08"
    },
    "kernelspec": {
      "display_name": "Python 3",
      "language": "python",
      "name": "python3"
    },
    "language_info": {
      "codemirror_mode": {
        "name": "ipython",
        "version": 3
      },
      "file_extension": ".py",
      "mimetype": "text/x-python",
      "name": "python",
      "nbconvert_exporter": "python",
      "pygments_lexer": "ipython3",
      "version": "3.7.9"
    },
    "colab": {
      "name": "custsegment_04-Copy7.ipynb",
      "provenance": [],
      "include_colab_link": true
    }
  },
  "nbformat": 4,
  "nbformat_minor": 0
}